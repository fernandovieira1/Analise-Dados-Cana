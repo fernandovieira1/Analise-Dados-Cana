{
  "cells": [
    {
      "cell_type": "markdown",
      "metadata": {
        "id": "5E6Nd07kIrXO"
      },
      "source": [
        "#### 0. Configurar o Ambiente"
      ]
    },
    {
      "cell_type": "code",
      "execution_count": 1,
      "metadata": {
        "colab": {
          "base_uri": "https://localhost:8080/"
        },
        "id": "xtQFtWk5IrXS",
        "outputId": "8ac3da42-eb06-466c-e772-74da94fbc707"
      },
      "outputs": [],
      "source": [
        "import os\n",
        "\n",
        "## Google Colab\n",
        "if 'google.colab' in str(get_ipython()):\n",
        "  from google.colab import drive\n",
        "  drive.mount('/content/drive', force_remount=True)\n",
        "  # Setar o diretório de trabalho\n",
        "  d_geral = R'/content/drive/MyDrive/Usina Pedra/Docs Nicolella/4-Dados e documentos/Dados'\n",
        "  d_usina = R'/content/drive/MyDrive/Usina Pedra/Docs Nicolella/4-Dados e documentos/Dados/Usina da Pedra'\n",
        "  d_sp = R'/content/drive/MyDrive/Usina Pedra/Docs Nicolella/4-Dados e documentos/Dados/Geral do Estado de Sao Paulo'\n",
        "## Windows\n",
        "else:\n",
        "  # Setar o diretório de trabalho\n",
        "  d_geral = R'C:\\Users\\ferna\\OneDrive\\5. Trabalho\\Expediente\\Ativos\\Consultoria\\Usina Pedra\\Docs Nicolella\\4-Dados e documentos\\Dados'\n",
        "  d_usina = R'C:\\Users\\ferna\\OneDrive\\5. Trabalho\\Expediente\\Ativos\\Consultoria\\Usina Pedra\\Docs Nicolella\\4-Dados e documentos\\Dados\\Usina da Pedra'\n",
        "  d_sp = R'C:\\Users\\ferna\\OneDrive\\5. Trabalho\\Expediente\\Ativos\\Consultoria\\Usina Pedra\\Docs Nicolella\\4-Dados e documentos\\Dados\\Geral do Estado de Sao Paulo'"
      ]
    },
    {
      "cell_type": "code",
      "execution_count": 2,
      "metadata": {
        "id": "e1ZhF48-IrXW"
      },
      "outputs": [],
      "source": [
        "# Importar as bibliotecas\n",
        "import pandas as pd\n",
        "import numpy as np\n",
        "import matplotlib.pyplot as plt\n",
        "import seaborn as sns\n",
        "\n",
        "## Configurações de visualização\n",
        "# Mundar largura de visualização no pandas\n",
        "pd.set_option('display.width', None)\n",
        "\n",
        "# Mudar número de colunas que aparecem\n",
        "pd.set_option('display.max_columns', None)\n",
        "\n",
        "# Mudar número de linhas que aparecem\n",
        "pd.set_option('display.max_rows', None)"
      ]
    },
    {
      "cell_type": "markdown",
      "metadata": {
        "id": "WeOTHPObIrXX"
      },
      "source": [
        "***\n"
      ]
    },
    {
      "cell_type": "markdown",
      "metadata": {
        "id": "PdPiGcw2IrXX"
      },
      "source": [
        "#### 1. Importar os dados e Criar o df"
      ]
    },
    {
      "cell_type": "markdown",
      "metadata": {
        "id": "lXfVfLy_vH6N"
      },
      "source": [
        "##### 1.1 Criar dataframe"
      ]
    },
    {
      "cell_type": "code",
      "execution_count": 3,
      "metadata": {
        "id": "GcKvq_17IrXY"
      },
      "outputs": [],
      "source": [
        "if 'google.colab' in str(get_ipython()):\n",
        "  df = pd.read_excel(d_usina + '/Historico de encerrados 2016 - 2023.xlsx', sheet_name='BASE_2016_2023', skiprows=1)\n",
        "  df.drop(['LAYER MAPA', 'VATR SAFRA', 'NM', 'Layer safra seção'], axis=1, inplace=True)\n",
        "else:\n",
        "  df = pd.read_excel(d_usina + '\\Historico de encerrados 2016 - 2023.xlsx', sheet_name='BASE_2016_2023', skiprows=1)\n",
        "  df.drop(['LAYER MAPA', 'VATR SAFRA', 'NM', 'Layer safra seção'], axis=1, inplace=True)"
      ]
    },
    {
      "cell_type": "markdown",
      "metadata": {
        "id": "2skTU8HNvH6O"
      },
      "source": [
        "##### 1.2 Formatar colunas"
      ]
    },
    {
      "cell_type": "code",
      "execution_count": 4,
      "metadata": {
        "id": "Be6aXsmMIrXZ",
        "vscode": {
          "languageId": "powershell"
        }
      },
      "outputs": [],
      "source": [
        "df['SAFRA'] = pd.to_datetime(df['SAFRA'], format='%Y')\n",
        "df['CÓD'] = df['CÓD'].astype('category')\n",
        "df['TALHÃO'] = df['TALHÃO'].astype('category')\n",
        "df['ESTÁGIO'] = df['ESTÁGIO'].astype('category')\n",
        "df['CORTE'] = df['CORTE'].astype('category')\n",
        "df['VARIEDADE'] = df['VARIEDADE'].astype('category')\n",
        "df['MÊS DE COLHEITA'] = df['MÊS DE COLHEITA'].astype('category')\n",
        "# df['TON/HÁ'] = df['TON/HÁ'].astype(float): tirar dúvida por que alguns tem: \"PARCERIA PLENA 30%\""
      ]
    },
    {
      "cell_type": "markdown",
      "metadata": {
        "id": "ByU_w2a5vH6Q"
      },
      "source": [
        "##### 1.3 Visão preliminar via do df"
      ]
    },
    {
      "cell_type": "code",
      "execution_count": 5,
      "metadata": {
        "colab": {
          "base_uri": "https://localhost:8080/"
        },
        "id": "329dXr2EIrXZ",
        "outputId": "5196e48b-b90c-4009-e0f4-50d7a20c693d"
      },
      "outputs": [
        {
          "name": "stdout",
          "output_type": "stream",
          "text": [
            "<class 'pandas.core.frame.DataFrame'>\n",
            "RangeIndex: 69418 entries, 0 to 69417\n",
            "Data columns (total 19 columns):\n",
            " #   Column            Non-Null Count  Dtype         \n",
            "---  ------            --------------  -----         \n",
            " 0   SAFRA             69418 non-null  datetime64[ns]\n",
            " 1   UNIDADE           69418 non-null  object        \n",
            " 2   TIPO              69418 non-null  object        \n",
            " 3   CÓD               69418 non-null  category      \n",
            " 4   SEÇÃO             69418 non-null  object        \n",
            " 5   TALHÃO            69417 non-null  category      \n",
            " 6   ÁREA              69418 non-null  float64       \n",
            " 7   ESTÁGIO           69418 non-null  category      \n",
            " 8   CORTE             69418 non-null  category      \n",
            " 9   VARIEDADE         69418 non-null  category      \n",
            " 10  PRODUÇÃO REAL     69418 non-null  float64       \n",
            " 11  TCH REAL          69418 non-null  float64       \n",
            " 12  ATR               69418 non-null  float64       \n",
            " 13  ATR * PRODUÇÃO    69418 non-null  float64       \n",
            " 14  DATA DE COLHEITA  69418 non-null  datetime64[ns]\n",
            " 15  MÊS DE COLHEITA   69418 non-null  category      \n",
            " 16  PARCEIRO          69418 non-null  object        \n",
            " 17  TON/HÁ            69418 non-null  object        \n",
            " 18  KG ATR            69418 non-null  float64       \n",
            "dtypes: category(6), datetime64[ns](2), float64(6), object(5)\n",
            "memory usage: 7.5+ MB\n"
          ]
        }
      ],
      "source": [
        "# Checar se as colunas estão bem formatadas\n",
        "df.info()\n"
      ]
    },
    {
      "cell_type": "code",
      "execution_count": 6,
      "metadata": {
        "colab": {
          "base_uri": "https://localhost:8080/",
          "height": 219
        },
        "id": "xdt4BHuSIrXa",
        "outputId": "cbfb5b1e-a35c-4b23-e8a2-be5368a93a57"
      },
      "outputs": [
        {
          "data": {
            "text/html": [
              "<div>\n",
              "<style scoped>\n",
              "    .dataframe tbody tr th:only-of-type {\n",
              "        vertical-align: middle;\n",
              "    }\n",
              "\n",
              "    .dataframe tbody tr th {\n",
              "        vertical-align: top;\n",
              "    }\n",
              "\n",
              "    .dataframe thead th {\n",
              "        text-align: right;\n",
              "    }\n",
              "</style>\n",
              "<table border=\"1\" class=\"dataframe\">\n",
              "  <thead>\n",
              "    <tr style=\"text-align: right;\">\n",
              "      <th></th>\n",
              "      <th>SAFRA</th>\n",
              "      <th>UNIDADE</th>\n",
              "      <th>TIPO</th>\n",
              "      <th>CÓD</th>\n",
              "      <th>SEÇÃO</th>\n",
              "      <th>TALHÃO</th>\n",
              "      <th>ÁREA</th>\n",
              "      <th>ESTÁGIO</th>\n",
              "      <th>CORTE</th>\n",
              "      <th>VARIEDADE</th>\n",
              "      <th>PRODUÇÃO REAL</th>\n",
              "      <th>TCH REAL</th>\n",
              "      <th>ATR</th>\n",
              "      <th>ATR * PRODUÇÃO</th>\n",
              "      <th>DATA DE COLHEITA</th>\n",
              "      <th>MÊS DE COLHEITA</th>\n",
              "      <th>PARCEIRO</th>\n",
              "      <th>TON/HÁ</th>\n",
              "      <th>KG ATR</th>\n",
              "    </tr>\n",
              "  </thead>\n",
              "  <tbody>\n",
              "    <tr>\n",
              "      <th>0</th>\n",
              "      <td>2016-01-01</td>\n",
              "      <td>PEDRA</td>\n",
              "      <td>PARCERIA</td>\n",
              "      <td>10001</td>\n",
              "      <td>10001 - LAGOINHA</td>\n",
              "      <td>1.0</td>\n",
              "      <td>21.64</td>\n",
              "      <td>1A</td>\n",
              "      <td>1</td>\n",
              "      <td>RB966928</td>\n",
              "      <td>1345.438</td>\n",
              "      <td>62.17</td>\n",
              "      <td>124.85</td>\n",
              "      <td>167977.9343</td>\n",
              "      <td>2016-12-04</td>\n",
              "      <td>12</td>\n",
              "      <td>BERNARDO BIAGI E OUTRO</td>\n",
              "      <td>26.86</td>\n",
              "      <td>121.9676</td>\n",
              "    </tr>\n",
              "    <tr>\n",
              "      <th>1</th>\n",
              "      <td>2016-01-01</td>\n",
              "      <td>PEDRA</td>\n",
              "      <td>PARCERIA</td>\n",
              "      <td>10001</td>\n",
              "      <td>10001 - LAGOINHA</td>\n",
              "      <td>2.0</td>\n",
              "      <td>16.05</td>\n",
              "      <td>1A</td>\n",
              "      <td>1</td>\n",
              "      <td>RB966928</td>\n",
              "      <td>1146.195</td>\n",
              "      <td>71.41</td>\n",
              "      <td>124.56</td>\n",
              "      <td>142770.0492</td>\n",
              "      <td>2016-12-04</td>\n",
              "      <td>12</td>\n",
              "      <td>BERNARDO BIAGI E OUTRO</td>\n",
              "      <td>26.86</td>\n",
              "      <td>121.9676</td>\n",
              "    </tr>\n",
              "  </tbody>\n",
              "</table>\n",
              "</div>"
            ],
            "text/plain": [
              "       SAFRA UNIDADE      TIPO    CÓD             SEÇÃO TALHÃO   ÁREA ESTÁGIO  \\\n",
              "0 2016-01-01   PEDRA  PARCERIA  10001  10001 - LAGOINHA    1.0  21.64      1A   \n",
              "1 2016-01-01   PEDRA  PARCERIA  10001  10001 - LAGOINHA    2.0  16.05      1A   \n",
              "\n",
              "  CORTE VARIEDADE  PRODUÇÃO REAL  TCH REAL     ATR  ATR * PRODUÇÃO  \\\n",
              "0     1  RB966928       1345.438     62.17  124.85     167977.9343   \n",
              "1     1  RB966928       1146.195     71.41  124.56     142770.0492   \n",
              "\n",
              "  DATA DE COLHEITA MÊS DE COLHEITA                PARCEIRO TON/HÁ    KG ATR  \n",
              "0       2016-12-04              12  BERNARDO BIAGI E OUTRO  26.86  121.9676  \n",
              "1       2016-12-04              12  BERNARDO BIAGI E OUTRO  26.86  121.9676  "
            ]
          },
          "execution_count": 6,
          "metadata": {},
          "output_type": "execute_result"
        }
      ],
      "source": [
        "# duas primeiras linhas\n",
        "df.head(2)"
      ]
    },
    {
      "cell_type": "code",
      "execution_count": 7,
      "metadata": {
        "colab": {
          "base_uri": "https://localhost:8080/",
          "height": 288
        },
        "id": "0lMQii4NIrXa",
        "outputId": "5193299b-2d20-4a9e-f600-4ababed230dc"
      },
      "outputs": [
        {
          "data": {
            "text/html": [
              "<div>\n",
              "<style scoped>\n",
              "    .dataframe tbody tr th:only-of-type {\n",
              "        vertical-align: middle;\n",
              "    }\n",
              "\n",
              "    .dataframe tbody tr th {\n",
              "        vertical-align: top;\n",
              "    }\n",
              "\n",
              "    .dataframe thead th {\n",
              "        text-align: right;\n",
              "    }\n",
              "</style>\n",
              "<table border=\"1\" class=\"dataframe\">\n",
              "  <thead>\n",
              "    <tr style=\"text-align: right;\">\n",
              "      <th></th>\n",
              "      <th>SAFRA</th>\n",
              "      <th>UNIDADE</th>\n",
              "      <th>TIPO</th>\n",
              "      <th>CÓD</th>\n",
              "      <th>SEÇÃO</th>\n",
              "      <th>TALHÃO</th>\n",
              "      <th>ÁREA</th>\n",
              "      <th>ESTÁGIO</th>\n",
              "      <th>CORTE</th>\n",
              "      <th>VARIEDADE</th>\n",
              "      <th>PRODUÇÃO REAL</th>\n",
              "      <th>TCH REAL</th>\n",
              "      <th>ATR</th>\n",
              "      <th>ATR * PRODUÇÃO</th>\n",
              "      <th>DATA DE COLHEITA</th>\n",
              "      <th>MÊS DE COLHEITA</th>\n",
              "      <th>PARCEIRO</th>\n",
              "      <th>TON/HÁ</th>\n",
              "      <th>KG ATR</th>\n",
              "    </tr>\n",
              "  </thead>\n",
              "  <tbody>\n",
              "    <tr>\n",
              "      <th>69416</th>\n",
              "      <td>2023-01-01</td>\n",
              "      <td>CEDRO</td>\n",
              "      <td>PARCERIA</td>\n",
              "      <td>71012</td>\n",
              "      <td>71012 - NOSSA SENHORA APARECIDA 2</td>\n",
              "      <td>7.0</td>\n",
              "      <td>23.02</td>\n",
              "      <td>1I</td>\n",
              "      <td>1</td>\n",
              "      <td>CTC4</td>\n",
              "      <td>1498.938</td>\n",
              "      <td>65.11</td>\n",
              "      <td>151.0</td>\n",
              "      <td>226339.638</td>\n",
              "      <td>2023-06-30</td>\n",
              "      <td>6</td>\n",
              "      <td>UMBERTO BIAGI CARVALHO</td>\n",
              "      <td>9.091</td>\n",
              "      <td>121.9676</td>\n",
              "    </tr>\n",
              "    <tr>\n",
              "      <th>69417</th>\n",
              "      <td>2023-01-01</td>\n",
              "      <td>CEDRO</td>\n",
              "      <td>PARCERIA</td>\n",
              "      <td>71012</td>\n",
              "      <td>71012 - NOSSA SENHORA APARECIDA 2</td>\n",
              "      <td>8.0</td>\n",
              "      <td>13.75</td>\n",
              "      <td>1I</td>\n",
              "      <td>1</td>\n",
              "      <td>CTC4</td>\n",
              "      <td>895.772</td>\n",
              "      <td>65.15</td>\n",
              "      <td>151.0</td>\n",
              "      <td>135261.572</td>\n",
              "      <td>2023-06-30</td>\n",
              "      <td>6</td>\n",
              "      <td>UMBERTO BIAGI CARVALHO</td>\n",
              "      <td>9.091</td>\n",
              "      <td>121.9676</td>\n",
              "    </tr>\n",
              "  </tbody>\n",
              "</table>\n",
              "</div>"
            ],
            "text/plain": [
              "           SAFRA UNIDADE      TIPO    CÓD                              SEÇÃO  \\\n",
              "69416 2023-01-01   CEDRO  PARCERIA  71012  71012 - NOSSA SENHORA APARECIDA 2   \n",
              "69417 2023-01-01   CEDRO  PARCERIA  71012  71012 - NOSSA SENHORA APARECIDA 2   \n",
              "\n",
              "      TALHÃO   ÁREA ESTÁGIO CORTE VARIEDADE  PRODUÇÃO REAL  TCH REAL    ATR  \\\n",
              "69416    7.0  23.02      1I     1      CTC4       1498.938     65.11  151.0   \n",
              "69417    8.0  13.75      1I     1      CTC4        895.772     65.15  151.0   \n",
              "\n",
              "       ATR * PRODUÇÃO DATA DE COLHEITA MÊS DE COLHEITA  \\\n",
              "69416      226339.638       2023-06-30               6   \n",
              "69417      135261.572       2023-06-30               6   \n",
              "\n",
              "                     PARCEIRO TON/HÁ    KG ATR  \n",
              "69416  UMBERTO BIAGI CARVALHO  9.091  121.9676  \n",
              "69417  UMBERTO BIAGI CARVALHO  9.091  121.9676  "
            ]
          },
          "execution_count": 7,
          "metadata": {},
          "output_type": "execute_result"
        }
      ],
      "source": [
        "# Duas últimas linhas\n",
        "df.tail(2)"
      ]
    },
    {
      "cell_type": "code",
      "execution_count": 8,
      "metadata": {
        "colab": {
          "base_uri": "https://localhost:8080/",
          "height": 175
        },
        "id": "aKN9i9MiIrXb",
        "outputId": "77286ba0-570e-4f12-b367-57d080a7ca04"
      },
      "outputs": [
        {
          "data": {
            "text/html": [
              "<div>\n",
              "<style scoped>\n",
              "    .dataframe tbody tr th:only-of-type {\n",
              "        vertical-align: middle;\n",
              "    }\n",
              "\n",
              "    .dataframe tbody tr th {\n",
              "        vertical-align: top;\n",
              "    }\n",
              "\n",
              "    .dataframe thead th {\n",
              "        text-align: right;\n",
              "    }\n",
              "</style>\n",
              "<table border=\"1\" class=\"dataframe\">\n",
              "  <thead>\n",
              "    <tr style=\"text-align: right;\">\n",
              "      <th></th>\n",
              "      <th>CÓD</th>\n",
              "      <th>TALHÃO</th>\n",
              "      <th>ESTÁGIO</th>\n",
              "      <th>CORTE</th>\n",
              "      <th>VARIEDADE</th>\n",
              "      <th>MÊS DE COLHEITA</th>\n",
              "    </tr>\n",
              "  </thead>\n",
              "  <tbody>\n",
              "    <tr>\n",
              "      <th>count</th>\n",
              "      <td>69418</td>\n",
              "      <td>69417.0</td>\n",
              "      <td>69418</td>\n",
              "      <td>69418</td>\n",
              "      <td>69418</td>\n",
              "      <td>69418</td>\n",
              "    </tr>\n",
              "    <tr>\n",
              "      <th>unique</th>\n",
              "      <td>1796</td>\n",
              "      <td>448.0</td>\n",
              "      <td>25</td>\n",
              "      <td>14</td>\n",
              "      <td>122</td>\n",
              "      <td>11</td>\n",
              "    </tr>\n",
              "    <tr>\n",
              "      <th>top</th>\n",
              "      <td>50004</td>\n",
              "      <td>1.0</td>\n",
              "      <td>3</td>\n",
              "      <td>3</td>\n",
              "      <td>CTC4</td>\n",
              "      <td>9</td>\n",
              "    </tr>\n",
              "    <tr>\n",
              "      <th>freq</th>\n",
              "      <td>1177</td>\n",
              "      <td>8115.0</td>\n",
              "      <td>14112</td>\n",
              "      <td>14736</td>\n",
              "      <td>12310</td>\n",
              "      <td>9889</td>\n",
              "    </tr>\n",
              "  </tbody>\n",
              "</table>\n",
              "</div>"
            ],
            "text/plain": [
              "          CÓD   TALHÃO  ESTÁGIO  CORTE VARIEDADE  MÊS DE COLHEITA\n",
              "count   69418  69417.0    69418  69418     69418            69418\n",
              "unique   1796    448.0       25     14       122               11\n",
              "top     50004      1.0        3      3      CTC4                9\n",
              "freq     1177   8115.0    14112  14736     12310             9889"
            ]
          },
          "execution_count": 8,
          "metadata": {},
          "output_type": "execute_result"
        }
      ],
      "source": [
        "# Descritiva dos categoricos\n",
        "df.describe(include='category')"
      ]
    },
    {
      "cell_type": "code",
      "execution_count": 9,
      "metadata": {
        "colab": {
          "base_uri": "https://localhost:8080/",
          "height": 355
        },
        "id": "xUM_ysKbIrXb",
        "outputId": "f587b3c5-c89b-438a-ad97-520f4b15ae87"
      },
      "outputs": [
        {
          "data": {
            "text/html": [
              "<div>\n",
              "<style scoped>\n",
              "    .dataframe tbody tr th:only-of-type {\n",
              "        vertical-align: middle;\n",
              "    }\n",
              "\n",
              "    .dataframe tbody tr th {\n",
              "        vertical-align: top;\n",
              "    }\n",
              "\n",
              "    .dataframe thead th {\n",
              "        text-align: right;\n",
              "    }\n",
              "</style>\n",
              "<table border=\"1\" class=\"dataframe\">\n",
              "  <thead>\n",
              "    <tr style=\"text-align: right;\">\n",
              "      <th></th>\n",
              "      <th>SAFRA</th>\n",
              "      <th>ÁREA</th>\n",
              "      <th>PRODUÇÃO REAL</th>\n",
              "      <th>TCH REAL</th>\n",
              "      <th>ATR</th>\n",
              "      <th>ATR * PRODUÇÃO</th>\n",
              "      <th>DATA DE COLHEITA</th>\n",
              "      <th>KG ATR</th>\n",
              "    </tr>\n",
              "  </thead>\n",
              "  <tbody>\n",
              "    <tr>\n",
              "      <th>count</th>\n",
              "      <td>69418</td>\n",
              "      <td>69418.000000</td>\n",
              "      <td>69418.000000</td>\n",
              "      <td>69418.000000</td>\n",
              "      <td>69418.000000</td>\n",
              "      <td>6.941800e+04</td>\n",
              "      <td>69418</td>\n",
              "      <td>69418.000000</td>\n",
              "    </tr>\n",
              "    <tr>\n",
              "      <th>mean</th>\n",
              "      <td>2019-06-24 15:40:10.544815616</td>\n",
              "      <td>11.577644</td>\n",
              "      <td>900.874245</td>\n",
              "      <td>78.813921</td>\n",
              "      <td>131.551430</td>\n",
              "      <td>1.184306e+05</td>\n",
              "      <td>2020-01-20 16:37:38.180875264</td>\n",
              "      <td>121.309559</td>\n",
              "    </tr>\n",
              "    <tr>\n",
              "      <th>min</th>\n",
              "      <td>2016-01-01 00:00:00</td>\n",
              "      <td>0.010000</td>\n",
              "      <td>0.607000</td>\n",
              "      <td>0.150000</td>\n",
              "      <td>0.000000</td>\n",
              "      <td>0.000000e+00</td>\n",
              "      <td>2016-03-08 00:00:00</td>\n",
              "      <td>109.190000</td>\n",
              "    </tr>\n",
              "    <tr>\n",
              "      <th>25%</th>\n",
              "      <td>2017-01-01 00:00:00</td>\n",
              "      <td>6.090000</td>\n",
              "      <td>405.322750</td>\n",
              "      <td>56.430000</td>\n",
              "      <td>121.620000</td>\n",
              "      <td>5.140085e+04</td>\n",
              "      <td>2017-11-20 00:00:00</td>\n",
              "      <td>121.967600</td>\n",
              "    </tr>\n",
              "    <tr>\n",
              "      <th>50%</th>\n",
              "      <td>2020-01-01 00:00:00</td>\n",
              "      <td>10.325000</td>\n",
              "      <td>728.930500</td>\n",
              "      <td>73.780000</td>\n",
              "      <td>135.850000</td>\n",
              "      <td>9.637571e+04</td>\n",
              "      <td>2020-03-24 00:00:00</td>\n",
              "      <td>121.967600</td>\n",
              "    </tr>\n",
              "    <tr>\n",
              "      <th>75%</th>\n",
              "      <td>2021-01-01 00:00:00</td>\n",
              "      <td>15.660000</td>\n",
              "      <td>1197.630750</td>\n",
              "      <td>94.970000</td>\n",
              "      <td>147.890000</td>\n",
              "      <td>1.606269e+05</td>\n",
              "      <td>2021-10-16 00:00:00</td>\n",
              "      <td>121.967600</td>\n",
              "    </tr>\n",
              "    <tr>\n",
              "      <th>max</th>\n",
              "      <td>2023-01-01 00:00:00</td>\n",
              "      <td>298.690000</td>\n",
              "      <td>8947.830000</td>\n",
              "      <td>10459.100000</td>\n",
              "      <td>195.250000</td>\n",
              "      <td>1.138074e+06</td>\n",
              "      <td>2023-12-20 00:00:00</td>\n",
              "      <td>140.000000</td>\n",
              "    </tr>\n",
              "    <tr>\n",
              "      <th>std</th>\n",
              "      <td>NaN</td>\n",
              "      <td>7.357393</td>\n",
              "      <td>702.466171</td>\n",
              "      <td>82.781249</td>\n",
              "      <td>28.387423</td>\n",
              "      <td>9.484242e+04</td>\n",
              "      <td>NaN</td>\n",
              "      <td>3.001175</td>\n",
              "    </tr>\n",
              "  </tbody>\n",
              "</table>\n",
              "</div>"
            ],
            "text/plain": [
              "                               SAFRA          ÁREA  PRODUÇÃO REAL  \\\n",
              "count                          69418  69418.000000   69418.000000   \n",
              "mean   2019-06-24 15:40:10.544815616     11.577644     900.874245   \n",
              "min              2016-01-01 00:00:00      0.010000       0.607000   \n",
              "25%              2017-01-01 00:00:00      6.090000     405.322750   \n",
              "50%              2020-01-01 00:00:00     10.325000     728.930500   \n",
              "75%              2021-01-01 00:00:00     15.660000    1197.630750   \n",
              "max              2023-01-01 00:00:00    298.690000    8947.830000   \n",
              "std                              NaN      7.357393     702.466171   \n",
              "\n",
              "           TCH REAL           ATR  ATR * PRODUÇÃO  \\\n",
              "count  69418.000000  69418.000000    6.941800e+04   \n",
              "mean      78.813921    131.551430    1.184306e+05   \n",
              "min        0.150000      0.000000    0.000000e+00   \n",
              "25%       56.430000    121.620000    5.140085e+04   \n",
              "50%       73.780000    135.850000    9.637571e+04   \n",
              "75%       94.970000    147.890000    1.606269e+05   \n",
              "max    10459.100000    195.250000    1.138074e+06   \n",
              "std       82.781249     28.387423    9.484242e+04   \n",
              "\n",
              "                    DATA DE COLHEITA        KG ATR  \n",
              "count                          69418  69418.000000  \n",
              "mean   2020-01-20 16:37:38.180875264    121.309559  \n",
              "min              2016-03-08 00:00:00    109.190000  \n",
              "25%              2017-11-20 00:00:00    121.967600  \n",
              "50%              2020-03-24 00:00:00    121.967600  \n",
              "75%              2021-10-16 00:00:00    121.967600  \n",
              "max              2023-12-20 00:00:00    140.000000  \n",
              "std                              NaN      3.001175  "
            ]
          },
          "execution_count": 9,
          "metadata": {},
          "output_type": "execute_result"
        }
      ],
      "source": [
        "# Descritiva dos dados quantitativos\n",
        "df.describe()"
      ]
    },
    {
      "cell_type": "code",
      "execution_count": 10,
      "metadata": {
        "colab": {
          "base_uri": "https://localhost:8080/"
        },
        "id": "wOKyAtCevH6X",
        "outputId": "dc54155f-d5fc-442b-92f7-f5ca9886a90f"
      },
      "outputs": [
        {
          "name": "stdout",
          "output_type": "stream",
          "text": [
            "SAFRA               0\n",
            "UNIDADE             0\n",
            "TIPO                0\n",
            "CÓD                 0\n",
            "SEÇÃO               0\n",
            "TALHÃO              1\n",
            "ÁREA                0\n",
            "ESTÁGIO             0\n",
            "CORTE               0\n",
            "VARIEDADE           0\n",
            "PRODUÇÃO REAL       0\n",
            "TCH REAL            0\n",
            "ATR                 0\n",
            "ATR * PRODUÇÃO      0\n",
            "DATA DE COLHEITA    0\n",
            "MÊS DE COLHEITA     0\n",
            "PARCEIRO            0\n",
            "TON/HÁ              0\n",
            "KG ATR              0\n",
            "dtype: int64\n"
          ]
        }
      ],
      "source": [
        "# Valores em branco por coluna\n",
        "missing_values = df.isnull().sum()\n",
        "print(missing_values)"
      ]
    },
    {
      "cell_type": "code",
      "execution_count": 11,
      "metadata": {
        "colab": {
          "base_uri": "https://localhost:8080/"
        },
        "id": "6737--LCvH6Y",
        "outputId": "7c44320f-6796-40d9-d646-fed3e3c10e40"
      },
      "outputs": [
        {
          "name": "stdout",
          "output_type": "stream",
          "text": [
            "SAFRA               0\n",
            "UNIDADE             0\n",
            "TIPO                0\n",
            "CÓD                 0\n",
            "SEÇÃO               0\n",
            "TALHÃO              1\n",
            "ÁREA                0\n",
            "ESTÁGIO             0\n",
            "CORTE               0\n",
            "VARIEDADE           0\n",
            "PRODUÇÃO REAL       0\n",
            "TCH REAL            0\n",
            "ATR                 0\n",
            "ATR * PRODUÇÃO      0\n",
            "DATA DE COLHEITA    0\n",
            "MÊS DE COLHEITA     0\n",
            "PARCEIRO            0\n",
            "TON/HÁ              0\n",
            "KG ATR              0\n",
            "dtype: int64\n"
          ]
        }
      ],
      "source": [
        "# Valores nulos por coluna\n",
        "null_values = df.isnull().sum()\n",
        "print(null_values)"
      ]
    },
    {
      "cell_type": "markdown",
      "metadata": {
        "id": "b9jyH6BTIrXb"
      },
      "source": [
        "***\n"
      ]
    },
    {
      "cell_type": "markdown",
      "metadata": {
        "id": "xXW2mGg5IrXc"
      },
      "source": [
        "#### 2. Visão preliminar"
      ]
    },
    {
      "cell_type": "code",
      "execution_count": 12,
      "metadata": {
        "colab": {
          "base_uri": "https://localhost:8080/",
          "height": 219
        },
        "id": "-JIgWfhMIrXc",
        "outputId": "a73276b8-3d93-47fa-fa6d-c9b2eb264a86"
      },
      "outputs": [
        {
          "data": {
            "text/html": [
              "<div>\n",
              "<style scoped>\n",
              "    .dataframe tbody tr th:only-of-type {\n",
              "        vertical-align: middle;\n",
              "    }\n",
              "\n",
              "    .dataframe tbody tr th {\n",
              "        vertical-align: top;\n",
              "    }\n",
              "\n",
              "    .dataframe thead th {\n",
              "        text-align: right;\n",
              "    }\n",
              "</style>\n",
              "<table border=\"1\" class=\"dataframe\">\n",
              "  <thead>\n",
              "    <tr style=\"text-align: right;\">\n",
              "      <th></th>\n",
              "      <th>SAFRA</th>\n",
              "      <th>UNIDADE</th>\n",
              "      <th>TIPO</th>\n",
              "      <th>CÓD</th>\n",
              "      <th>SEÇÃO</th>\n",
              "      <th>TALHÃO</th>\n",
              "      <th>ÁREA</th>\n",
              "      <th>ESTÁGIO</th>\n",
              "      <th>CORTE</th>\n",
              "      <th>VARIEDADE</th>\n",
              "      <th>PRODUÇÃO REAL</th>\n",
              "      <th>TCH REAL</th>\n",
              "      <th>ATR</th>\n",
              "      <th>ATR * PRODUÇÃO</th>\n",
              "      <th>DATA DE COLHEITA</th>\n",
              "      <th>MÊS DE COLHEITA</th>\n",
              "      <th>PARCEIRO</th>\n",
              "      <th>TON/HÁ</th>\n",
              "      <th>KG ATR</th>\n",
              "    </tr>\n",
              "  </thead>\n",
              "  <tbody>\n",
              "    <tr>\n",
              "      <th>0</th>\n",
              "      <td>2016-01-01</td>\n",
              "      <td>PEDRA</td>\n",
              "      <td>PARCERIA</td>\n",
              "      <td>10001</td>\n",
              "      <td>10001 - LAGOINHA</td>\n",
              "      <td>1.0</td>\n",
              "      <td>21.64</td>\n",
              "      <td>1A</td>\n",
              "      <td>1</td>\n",
              "      <td>RB966928</td>\n",
              "      <td>1345.438</td>\n",
              "      <td>62.17</td>\n",
              "      <td>124.85</td>\n",
              "      <td>167977.9343</td>\n",
              "      <td>2016-12-04</td>\n",
              "      <td>12</td>\n",
              "      <td>BERNARDO BIAGI E OUTRO</td>\n",
              "      <td>26.86</td>\n",
              "      <td>121.9676</td>\n",
              "    </tr>\n",
              "    <tr>\n",
              "      <th>1</th>\n",
              "      <td>2016-01-01</td>\n",
              "      <td>PEDRA</td>\n",
              "      <td>PARCERIA</td>\n",
              "      <td>10001</td>\n",
              "      <td>10001 - LAGOINHA</td>\n",
              "      <td>2.0</td>\n",
              "      <td>16.05</td>\n",
              "      <td>1A</td>\n",
              "      <td>1</td>\n",
              "      <td>RB966928</td>\n",
              "      <td>1146.195</td>\n",
              "      <td>71.41</td>\n",
              "      <td>124.56</td>\n",
              "      <td>142770.0492</td>\n",
              "      <td>2016-12-04</td>\n",
              "      <td>12</td>\n",
              "      <td>BERNARDO BIAGI E OUTRO</td>\n",
              "      <td>26.86</td>\n",
              "      <td>121.9676</td>\n",
              "    </tr>\n",
              "  </tbody>\n",
              "</table>\n",
              "</div>"
            ],
            "text/plain": [
              "       SAFRA UNIDADE      TIPO    CÓD             SEÇÃO TALHÃO   ÁREA ESTÁGIO  \\\n",
              "0 2016-01-01   PEDRA  PARCERIA  10001  10001 - LAGOINHA    1.0  21.64      1A   \n",
              "1 2016-01-01   PEDRA  PARCERIA  10001  10001 - LAGOINHA    2.0  16.05      1A   \n",
              "\n",
              "  CORTE VARIEDADE  PRODUÇÃO REAL  TCH REAL     ATR  ATR * PRODUÇÃO  \\\n",
              "0     1  RB966928       1345.438     62.17  124.85     167977.9343   \n",
              "1     1  RB966928       1146.195     71.41  124.56     142770.0492   \n",
              "\n",
              "  DATA DE COLHEITA MÊS DE COLHEITA                PARCEIRO TON/HÁ    KG ATR  \n",
              "0       2016-12-04              12  BERNARDO BIAGI E OUTRO  26.86  121.9676  \n",
              "1       2016-12-04              12  BERNARDO BIAGI E OUTRO  26.86  121.9676  "
            ]
          },
          "execution_count": 12,
          "metadata": {},
          "output_type": "execute_result"
        }
      ],
      "source": [
        "df.head(2)"
      ]
    },
    {
      "cell_type": "markdown",
      "metadata": {
        "id": "DFNtHOfwvH6b"
      },
      "source": [
        "##### 2.1 Descrição das colunas"
      ]
    },
    {
      "cell_type": "code",
      "execution_count": 13,
      "metadata": {
        "id": "U6bbzIAUIrXd"
      },
      "outputs": [],
      "source": [
        "## Colunas\n",
        "\n",
        "# (Q)* SAFRA: Ano da safra\n",
        "# (C) UNIDADE: Nome do local da produção/colheita\n",
        "# (C) TIPO: Tipo de contrato (Parceria ou Arrendamento)\n",
        "# (C) CÓD: Código da unidade de beneficiamento (???) --> 1801 diferentes\n",
        "# (C) SEÇÃO: Unidade de beneficiamento (???) --> são 1801\n",
        "# (C) TALHÃO: Porção de terra onde a cana foi plantada --> 448 diferentes\n",
        "# (Q) ÁREA: Tamanho da área plantada (ha)\n",
        "# (C) ESTÁGIO: (???) --> 25 diferentes\n",
        "# (C) CORTE: (???) --> 14 diferentes\n",
        "# (C) VARIEDADE: (???) --> 122 diferentes\n",
        "# (Q) PRODUÇÃO REAL: total colheita (kg)\n",
        "# (Q) TCH REAL: Tonelada de cana por hectare (kg)\n",
        "# (Q) ATR: Açúcar Total Recuperável (kg)\n",
        "# (Q) ATR*PRODUÇÃO: (PRODUÇÃO REAL*ATR) (kg)\n",
        "# (Q) DATA DE COLHEITA: AE\n",
        "# (C) MÊS DE COLHEITA: AE\n",
        "# (C) PARCEIRO: Nome do produtor parceiro --> 1.726 diferentes\n",
        "# (Q) TON/HÁ: (???) ==> muitos valores repetidos\n",
        "# (Q) KG ATR: (???) ==> muitos valores repetidos\n",
        "\n",
        "# Estes dados poderão ser utilizados em I"
      ]
    },
    {
      "cell_type": "code",
      "execution_count": 14,
      "metadata": {
        "colab": {
          "base_uri": "https://localhost:8080/",
          "height": 288
        },
        "id": "9Ouee_WwWuUH",
        "outputId": "041f7aea-a7a2-475b-8810-9713224aa25b"
      },
      "outputs": [
        {
          "data": {
            "text/html": [
              "<div>\n",
              "<style scoped>\n",
              "    .dataframe tbody tr th:only-of-type {\n",
              "        vertical-align: middle;\n",
              "    }\n",
              "\n",
              "    .dataframe tbody tr th {\n",
              "        vertical-align: top;\n",
              "    }\n",
              "\n",
              "    .dataframe thead th {\n",
              "        text-align: right;\n",
              "    }\n",
              "</style>\n",
              "<table border=\"1\" class=\"dataframe\">\n",
              "  <thead>\n",
              "    <tr style=\"text-align: right;\">\n",
              "      <th></th>\n",
              "      <th>SAFRA</th>\n",
              "      <th>UNIDADE</th>\n",
              "      <th>TIPO</th>\n",
              "      <th>CÓD</th>\n",
              "      <th>SEÇÃO</th>\n",
              "      <th>TALHÃO</th>\n",
              "      <th>ÁREA</th>\n",
              "      <th>ESTÁGIO</th>\n",
              "      <th>CORTE</th>\n",
              "      <th>VARIEDADE</th>\n",
              "      <th>PRODUÇÃO REAL</th>\n",
              "      <th>TCH REAL</th>\n",
              "      <th>ATR</th>\n",
              "      <th>ATR * PRODUÇÃO</th>\n",
              "      <th>DATA DE COLHEITA</th>\n",
              "      <th>MÊS DE COLHEITA</th>\n",
              "      <th>PARCEIRO</th>\n",
              "      <th>TON/HÁ</th>\n",
              "      <th>KG ATR</th>\n",
              "    </tr>\n",
              "  </thead>\n",
              "  <tbody>\n",
              "    <tr>\n",
              "      <th>69416</th>\n",
              "      <td>2023-01-01</td>\n",
              "      <td>CEDRO</td>\n",
              "      <td>PARCERIA</td>\n",
              "      <td>71012</td>\n",
              "      <td>71012 - NOSSA SENHORA APARECIDA 2</td>\n",
              "      <td>7.0</td>\n",
              "      <td>23.02</td>\n",
              "      <td>1I</td>\n",
              "      <td>1</td>\n",
              "      <td>CTC4</td>\n",
              "      <td>1498.938</td>\n",
              "      <td>65.11</td>\n",
              "      <td>151.0</td>\n",
              "      <td>226339.638</td>\n",
              "      <td>2023-06-30</td>\n",
              "      <td>6</td>\n",
              "      <td>UMBERTO BIAGI CARVALHO</td>\n",
              "      <td>9.091</td>\n",
              "      <td>121.9676</td>\n",
              "    </tr>\n",
              "    <tr>\n",
              "      <th>69417</th>\n",
              "      <td>2023-01-01</td>\n",
              "      <td>CEDRO</td>\n",
              "      <td>PARCERIA</td>\n",
              "      <td>71012</td>\n",
              "      <td>71012 - NOSSA SENHORA APARECIDA 2</td>\n",
              "      <td>8.0</td>\n",
              "      <td>13.75</td>\n",
              "      <td>1I</td>\n",
              "      <td>1</td>\n",
              "      <td>CTC4</td>\n",
              "      <td>895.772</td>\n",
              "      <td>65.15</td>\n",
              "      <td>151.0</td>\n",
              "      <td>135261.572</td>\n",
              "      <td>2023-06-30</td>\n",
              "      <td>6</td>\n",
              "      <td>UMBERTO BIAGI CARVALHO</td>\n",
              "      <td>9.091</td>\n",
              "      <td>121.9676</td>\n",
              "    </tr>\n",
              "  </tbody>\n",
              "</table>\n",
              "</div>"
            ],
            "text/plain": [
              "           SAFRA UNIDADE      TIPO    CÓD                              SEÇÃO  \\\n",
              "69416 2023-01-01   CEDRO  PARCERIA  71012  71012 - NOSSA SENHORA APARECIDA 2   \n",
              "69417 2023-01-01   CEDRO  PARCERIA  71012  71012 - NOSSA SENHORA APARECIDA 2   \n",
              "\n",
              "      TALHÃO   ÁREA ESTÁGIO CORTE VARIEDADE  PRODUÇÃO REAL  TCH REAL    ATR  \\\n",
              "69416    7.0  23.02      1I     1      CTC4       1498.938     65.11  151.0   \n",
              "69417    8.0  13.75      1I     1      CTC4        895.772     65.15  151.0   \n",
              "\n",
              "       ATR * PRODUÇÃO DATA DE COLHEITA MÊS DE COLHEITA  \\\n",
              "69416      226339.638       2023-06-30               6   \n",
              "69417      135261.572       2023-06-30               6   \n",
              "\n",
              "                     PARCEIRO TON/HÁ    KG ATR  \n",
              "69416  UMBERTO BIAGI CARVALHO  9.091  121.9676  \n",
              "69417  UMBERTO BIAGI CARVALHO  9.091  121.9676  "
            ]
          },
          "execution_count": 14,
          "metadata": {},
          "output_type": "execute_result"
        }
      ],
      "source": [
        "df.tail(2)"
      ]
    },
    {
      "cell_type": "markdown",
      "metadata": {
        "id": "l9jO0j8cvH6d"
      },
      "source": [
        "#### 3. AED"
      ]
    },
    {
      "cell_type": "markdown",
      "metadata": {
        "id": "rQmM8j1rvH6e"
      },
      "source": [
        "##### 3.1 Dados categóricos"
      ]
    },
    {
      "cell_type": "code",
      "execution_count": 15,
      "metadata": {
        "id": "ZQMvJYlbIrXd"
      },
      "outputs": [],
      "source": [
        "# 1. UNIDADE: Nome do local da produção/colheita\n",
        "# 2. TIPO: Tipo de contrato (Parceria ou Arrendamento)\n",
        "# 3. CÓD: Código da unidade de beneficiamento (???) --> 1801 diferentes\n",
        "# 4. SEÇÃO: Unidade de beneficiamento (???) --> são 1801\n",
        "# 5. TALHÃO: Porção de terra onde a cana foi plantada --> 448 diferentes\n",
        "# 6. ESTÁGIO: (???) --> 25 diferentes\n",
        "# 7. CORTE: (???) --> 14 diferentes\n",
        "# 8. VARIEDADE: (???) --> 122 diferentes\n",
        "# 9. MÊS DE COLHEITA: AE\n",
        "# 10. PARCEIRO: Nome do produtor parceiro --> 1.726 diferentes"
      ]
    },
    {
      "cell_type": "markdown",
      "metadata": {
        "id": "F-GK9YafvH6f"
      },
      "source": [
        "###### 1. UNIDADE"
      ]
    },
    {
      "cell_type": "code",
      "execution_count": 16,
      "metadata": {
        "colab": {
          "base_uri": "https://localhost:8080/"
        },
        "id": "Nz2Oh56svH6f",
        "outputId": "7ec1b32b-440e-4085-c4aa-18cf375f141f"
      },
      "outputs": [
        {
          "data": {
            "text/plain": [
              "UNIDADE\n",
              "PEDRA     29119\n",
              "IPÊ       20308\n",
              "BURITI    19875\n",
              "CEDRO       116\n",
              "Name: count, dtype: int64"
            ]
          },
          "execution_count": 16,
          "metadata": {},
          "output_type": "execute_result"
        }
      ],
      "source": [
        "## 1. UNIDADE\n",
        "df['UNIDADE'].value_counts()\n",
        "\n",
        "# Nome do local da produção/colheita\n"
      ]
    },
    {
      "cell_type": "code",
      "execution_count": 17,
      "metadata": {
        "colab": {
          "base_uri": "https://localhost:8080/"
        },
        "id": "TGWP_k5kvH6g",
        "outputId": "96f0afc2-efa9-4b10-bf00-52df10fc922c"
      },
      "outputs": [
        {
          "data": {
            "text/plain": [
              "UNIDADE\n",
              "PEDRA     0.419473\n",
              "IPÊ       0.292547\n",
              "BURITI    0.286309\n",
              "CEDRO     0.001671\n",
              "Name: proportion, dtype: float64"
            ]
          },
          "execution_count": 17,
          "metadata": {},
          "output_type": "execute_result"
        }
      ],
      "source": [
        "## 1. UNIDADE\n",
        "df['UNIDADE'].value_counts(normalize=True, ascending=False)\n",
        "\n",
        "# Nome do local da produção/colheita"
      ]
    },
    {
      "cell_type": "code",
      "execution_count": 18,
      "metadata": {
        "id": "wHn6uAKLvH6h"
      },
      "outputs": [],
      "source": [
        "## UNIDADE\n",
        "# A unidade de produção mais frequente é a Usina da Pedra (~41%), com as unidades\n",
        "# Usina Ipê (~29%) e Usina Buriti (~29%) representando juntas 58% das colheitas.\n",
        "# De forma quase simbólica, a Usina Cedro representa 0,1% das colheitas."
      ]
    },
    {
      "cell_type": "markdown",
      "metadata": {
        "id": "_Qy8dSRkvH6i"
      },
      "source": [
        "###### 2. TIPO"
      ]
    },
    {
      "cell_type": "code",
      "execution_count": null,
      "metadata": {
        "id": "WveJNi8uvH6i"
      },
      "outputs": [],
      "source": []
    },
    {
      "cell_type": "code",
      "execution_count": null,
      "metadata": {
        "id": "qCreMGHuvH6j"
      },
      "outputs": [],
      "source": []
    },
    {
      "cell_type": "markdown",
      "metadata": {
        "id": "G98mFu3FvH6j"
      },
      "source": [
        "###### 3. CÓD"
      ]
    },
    {
      "cell_type": "code",
      "execution_count": 19,
      "metadata": {
        "colab": {
          "base_uri": "https://localhost:8080/"
        },
        "id": "3RGWXK5UvH6k",
        "outputId": "3b227a32-801a-46bb-a064-3950594b7f04"
      },
      "outputs": [
        {
          "data": {
            "text/plain": [
              "1796"
            ]
          },
          "execution_count": 19,
          "metadata": {},
          "output_type": "execute_result"
        }
      ],
      "source": [
        "## CÓD\n",
        "# Código da unidade de beneficiamento (???)\n",
        "df['CÓD'].nunique()\n",
        "\n",
        "#  1801 diferentes"
      ]
    },
    {
      "cell_type": "markdown",
      "metadata": {
        "id": "cRGgGecBvH6l"
      },
      "source": [
        "###### 4. SEÇÃO"
      ]
    },
    {
      "cell_type": "code",
      "execution_count": null,
      "metadata": {
        "id": "bO2lB5iKvH6l"
      },
      "outputs": [],
      "source": []
    },
    {
      "cell_type": "code",
      "execution_count": null,
      "metadata": {
        "id": "bdWdjESLvH6l"
      },
      "outputs": [],
      "source": []
    },
    {
      "cell_type": "code",
      "execution_count": null,
      "metadata": {
        "id": "XfEexXM9vH6m"
      },
      "outputs": [],
      "source": []
    },
    {
      "cell_type": "markdown",
      "metadata": {
        "id": "AN6VrtHBvH6o"
      },
      "source": [
        "###### 5. TALHÃO"
      ]
    },
    {
      "cell_type": "code",
      "execution_count": 20,
      "metadata": {
        "colab": {
          "base_uri": "https://localhost:8080/"
        },
        "id": "pAmQo5LyvH6p",
        "outputId": "a45281cf-ceb0-4905-c575-b26c86a8ad9b"
      },
      "outputs": [
        {
          "data": {
            "text/plain": [
              "448"
            ]
          },
          "execution_count": 20,
          "metadata": {},
          "output_type": "execute_result"
        }
      ],
      "source": [
        "## TALHÃO\n",
        "# Porção de terra onde a cana foi plantada\n",
        "df['TALHÃO'].nunique()\n",
        "\n",
        "#  448 diferentes"
      ]
    },
    {
      "cell_type": "markdown",
      "metadata": {
        "id": "WOawQpNXvH6q"
      },
      "source": [
        "###### 6. ESTÁGIO"
      ]
    },
    {
      "cell_type": "code",
      "execution_count": 21,
      "metadata": {
        "id": "TxSLCjfqvH6q"
      },
      "outputs": [],
      "source": [
        "## ESTÁGIO: (???) --> 25 diferentes"
      ]
    },
    {
      "cell_type": "markdown",
      "metadata": {
        "id": "XNXK-S_-vH6r"
      },
      "source": [
        "###### 7. CORTE"
      ]
    },
    {
      "cell_type": "code",
      "execution_count": 22,
      "metadata": {
        "id": "hDjCjCCQvH6r"
      },
      "outputs": [],
      "source": [
        "\n",
        "## CORTE: (???) --> 14 diferentes\n"
      ]
    },
    {
      "cell_type": "markdown",
      "metadata": {
        "id": "UPgUwjQFvH6s"
      },
      "source": [
        "###### 8. VARIEDADE"
      ]
    },
    {
      "cell_type": "code",
      "execution_count": 23,
      "metadata": {
        "id": "b-1583YJvH6s"
      },
      "outputs": [],
      "source": [
        "## VARIEDADE: (???) --> 122 diferentes"
      ]
    },
    {
      "cell_type": "markdown",
      "metadata": {
        "id": "eh9_zR6bvH6t"
      },
      "source": [
        "###### 9. MÊS DE COLHEITA"
      ]
    },
    {
      "cell_type": "code",
      "execution_count": 24,
      "metadata": {
        "colab": {
          "base_uri": "https://localhost:8080/"
        },
        "id": "b-JyMXHqvH6t",
        "outputId": "c3493bce-a7f4-4344-cb7b-8be9043c90dc"
      },
      "outputs": [
        {
          "data": {
            "text/plain": [
              "[12, 4, 5, 10, 11, ..., 8, 7, 6, 3, 2]\n",
              "Length: 11\n",
              "Categories (11, int64): [2, 3, 4, 5, ..., 9, 10, 11, 12]"
            ]
          },
          "execution_count": 24,
          "metadata": {},
          "output_type": "execute_result"
        }
      ],
      "source": [
        "## MÊS DE COLHEITA\n",
        "df['MÊS DE COLHEITA'].unique()\n"
      ]
    },
    {
      "cell_type": "code",
      "execution_count": 25,
      "metadata": {
        "colab": {
          "base_uri": "https://localhost:8080/"
        },
        "id": "Sng8Yq52vH6u",
        "outputId": "05f0849d-8409-4674-9fcf-22776e8b7da9"
      },
      "outputs": [
        {
          "data": {
            "text/plain": [
              "MÊS DE COLHEITA\n",
              "9     9889\n",
              "7     9060\n",
              "8     8799\n",
              "10    8490\n",
              "5     8310\n",
              "6     7631\n",
              "4     7627\n",
              "11    5594\n",
              "3     2021\n",
              "12    1995\n",
              "2        2\n",
              "Name: count, dtype: int64"
            ]
          },
          "execution_count": 25,
          "metadata": {},
          "output_type": "execute_result"
        }
      ],
      "source": [
        "## MÊS DE COLHEITA\n",
        "df['MÊS DE COLHEITA'].value_counts(normalize=False)"
      ]
    },
    {
      "cell_type": "code",
      "execution_count": 26,
      "metadata": {
        "colab": {
          "base_uri": "https://localhost:8080/"
        },
        "id": "YT9xtHhOvH6v",
        "outputId": "c5813b70-67a2-4420-f42a-a73d90279604"
      },
      "outputs": [
        {
          "data": {
            "text/plain": [
              "MÊS DE COLHEITA\n",
              "9     0.142456\n",
              "7     0.130514\n",
              "8     0.126754\n",
              "10    0.122303\n",
              "5     0.119710\n",
              "6     0.109928\n",
              "4     0.109871\n",
              "11    0.080584\n",
              "3     0.029113\n",
              "12    0.028739\n",
              "2     0.000029\n",
              "Name: proportion, dtype: float64"
            ]
          },
          "execution_count": 26,
          "metadata": {},
          "output_type": "execute_result"
        }
      ],
      "source": [
        "## MÊS DE COLHEITA\n",
        "df['MÊS DE COLHEITA'].value_counts(normalize=True, ascending=False)"
      ]
    },
    {
      "cell_type": "code",
      "execution_count": 27,
      "metadata": {
        "id": "6pSN1JSAvH6v"
      },
      "outputs": [],
      "source": [
        "## MÊS DE COLHEITA\n",
        "# As colheitas são bem divididas ao longo do ano, sendo menores entre dezembro e fevereiro"
      ]
    },
    {
      "cell_type": "markdown",
      "metadata": {
        "id": "wvxVdn_svH6w"
      },
      "source": [
        "###### 10. PARCEIRO"
      ]
    },
    {
      "cell_type": "code",
      "execution_count": 28,
      "metadata": {
        "colab": {
          "base_uri": "https://localhost:8080/"
        },
        "id": "jIPA_EDWvH6x",
        "outputId": "bf2895cc-9bee-4839-af44-05dddf5615bb"
      },
      "outputs": [
        {
          "data": {
            "text/plain": [
              "1726"
            ]
          },
          "execution_count": 28,
          "metadata": {},
          "output_type": "execute_result"
        }
      ],
      "source": [
        "## PARCEIRO\n",
        "# Diferentes parceiros\n",
        "df['PARCEIRO'].nunique()\n",
        "\n",
        "# 1.726 parceiros diferentes"
      ]
    },
    {
      "cell_type": "code",
      "execution_count": 29,
      "metadata": {
        "id": "cC4K9W_vvH6x"
      },
      "outputs": [],
      "source": [
        "## PARCEIRO\n",
        "# Produção real (kg) / total colhido por parceiro\n",
        "# df.groupby('PARCEIRO')['PRODUÇÃO REAL'].sum().sort_values(ascending=False)"
      ]
    },
    {
      "cell_type": "code",
      "execution_count": 30,
      "metadata": {
        "id": "kSL8wHeKvH6z"
      },
      "outputs": [],
      "source": [
        "## PARCEIRO\n",
        "# ATR (kg) / total produzido em açúcar por parceiro\n",
        "# df.groupby('PARCEIRO')['ATR'].sum().sort_values(ascending=False)"
      ]
    },
    {
      "cell_type": "code",
      "execution_count": 31,
      "metadata": {
        "id": "Vm79fki4vH60"
      },
      "outputs": [],
      "source": [
        "## PARCEIRO\n",
        "# Qtde absoluta de colheitas por parceiro\n",
        "# df['PARCEIRO'].value_counts()"
      ]
    },
    {
      "cell_type": "code",
      "execution_count": 32,
      "metadata": {
        "id": "GGtUUM2VvH61"
      },
      "outputs": [],
      "source": [
        "## PARCEIRO\n",
        "# Qtde relativa de colheitas por parceiro\n",
        "# df['PARCEIRO'].value_counts(normalize=True)"
      ]
    },
    {
      "cell_type": "markdown",
      "metadata": {
        "id": "9rxhhT6nvH61"
      },
      "source": [
        "##### 3.2 Dados Quantitativos"
      ]
    },
    {
      "cell_type": "code",
      "execution_count": 33,
      "metadata": {
        "id": "bjLuYq1nvH62"
      },
      "outputs": [],
      "source": [
        "## Colunas\n",
        "\n",
        "# 1. SAFRA: Ano da safra\n",
        "# 2. ÁREA: Tamanho da área plantada (ha)\n",
        "# 3. PRODUÇÃO REAL: total colheita (kg)\n",
        "# 4. TCH REAL: Tonelada de cana por hectare (kg)\n",
        "# 5. ATR: Açúcar Total Recuperável (kg)\n",
        "# 6. ATR * PRODUÇÃO: (PRODUÇÃO REAL*ATR) (kg)\n",
        "# 7. DATA DE COLHEITA: AE\n",
        "# 8. TON/HÁ: (???) ==> muitos valores repetidos\n",
        "# 9. KG ATR: (???) ==> muitos valores repetidos\n"
      ]
    },
    {
      "cell_type": "code",
      "execution_count": 34,
      "metadata": {
        "colab": {
          "base_uri": "https://localhost:8080/",
          "height": 219
        },
        "id": "XekB8NMzvH63",
        "outputId": "182cb6ca-0928-4d06-ef93-458623087ac1"
      },
      "outputs": [
        {
          "data": {
            "text/html": [
              "<div>\n",
              "<style scoped>\n",
              "    .dataframe tbody tr th:only-of-type {\n",
              "        vertical-align: middle;\n",
              "    }\n",
              "\n",
              "    .dataframe tbody tr th {\n",
              "        vertical-align: top;\n",
              "    }\n",
              "\n",
              "    .dataframe thead th {\n",
              "        text-align: right;\n",
              "    }\n",
              "</style>\n",
              "<table border=\"1\" class=\"dataframe\">\n",
              "  <thead>\n",
              "    <tr style=\"text-align: right;\">\n",
              "      <th></th>\n",
              "      <th>SAFRA</th>\n",
              "      <th>UNIDADE</th>\n",
              "      <th>TIPO</th>\n",
              "      <th>CÓD</th>\n",
              "      <th>SEÇÃO</th>\n",
              "      <th>TALHÃO</th>\n",
              "      <th>ÁREA</th>\n",
              "      <th>ESTÁGIO</th>\n",
              "      <th>CORTE</th>\n",
              "      <th>VARIEDADE</th>\n",
              "      <th>PRODUÇÃO REAL</th>\n",
              "      <th>TCH REAL</th>\n",
              "      <th>ATR</th>\n",
              "      <th>ATR * PRODUÇÃO</th>\n",
              "      <th>DATA DE COLHEITA</th>\n",
              "      <th>MÊS DE COLHEITA</th>\n",
              "      <th>PARCEIRO</th>\n",
              "      <th>TON/HÁ</th>\n",
              "      <th>KG ATR</th>\n",
              "    </tr>\n",
              "  </thead>\n",
              "  <tbody>\n",
              "    <tr>\n",
              "      <th>0</th>\n",
              "      <td>2016-01-01</td>\n",
              "      <td>PEDRA</td>\n",
              "      <td>PARCERIA</td>\n",
              "      <td>10001</td>\n",
              "      <td>10001 - LAGOINHA</td>\n",
              "      <td>1.0</td>\n",
              "      <td>21.64</td>\n",
              "      <td>1A</td>\n",
              "      <td>1</td>\n",
              "      <td>RB966928</td>\n",
              "      <td>1345.438</td>\n",
              "      <td>62.17</td>\n",
              "      <td>124.85</td>\n",
              "      <td>167977.9343</td>\n",
              "      <td>2016-12-04</td>\n",
              "      <td>12</td>\n",
              "      <td>BERNARDO BIAGI E OUTRO</td>\n",
              "      <td>26.86</td>\n",
              "      <td>121.9676</td>\n",
              "    </tr>\n",
              "    <tr>\n",
              "      <th>1</th>\n",
              "      <td>2016-01-01</td>\n",
              "      <td>PEDRA</td>\n",
              "      <td>PARCERIA</td>\n",
              "      <td>10001</td>\n",
              "      <td>10001 - LAGOINHA</td>\n",
              "      <td>2.0</td>\n",
              "      <td>16.05</td>\n",
              "      <td>1A</td>\n",
              "      <td>1</td>\n",
              "      <td>RB966928</td>\n",
              "      <td>1146.195</td>\n",
              "      <td>71.41</td>\n",
              "      <td>124.56</td>\n",
              "      <td>142770.0492</td>\n",
              "      <td>2016-12-04</td>\n",
              "      <td>12</td>\n",
              "      <td>BERNARDO BIAGI E OUTRO</td>\n",
              "      <td>26.86</td>\n",
              "      <td>121.9676</td>\n",
              "    </tr>\n",
              "  </tbody>\n",
              "</table>\n",
              "</div>"
            ],
            "text/plain": [
              "       SAFRA UNIDADE      TIPO    CÓD             SEÇÃO TALHÃO   ÁREA ESTÁGIO  \\\n",
              "0 2016-01-01   PEDRA  PARCERIA  10001  10001 - LAGOINHA    1.0  21.64      1A   \n",
              "1 2016-01-01   PEDRA  PARCERIA  10001  10001 - LAGOINHA    2.0  16.05      1A   \n",
              "\n",
              "  CORTE VARIEDADE  PRODUÇÃO REAL  TCH REAL     ATR  ATR * PRODUÇÃO  \\\n",
              "0     1  RB966928       1345.438     62.17  124.85     167977.9343   \n",
              "1     1  RB966928       1146.195     71.41  124.56     142770.0492   \n",
              "\n",
              "  DATA DE COLHEITA MÊS DE COLHEITA                PARCEIRO TON/HÁ    KG ATR  \n",
              "0       2016-12-04              12  BERNARDO BIAGI E OUTRO  26.86  121.9676  \n",
              "1       2016-12-04              12  BERNARDO BIAGI E OUTRO  26.86  121.9676  "
            ]
          },
          "execution_count": 34,
          "metadata": {},
          "output_type": "execute_result"
        }
      ],
      "source": [
        "df.head(2)"
      ]
    },
    {
      "cell_type": "markdown",
      "metadata": {
        "id": "R2RbtCO6vH63"
      },
      "source": [
        "###### 1. SAFRA"
      ]
    },
    {
      "cell_type": "code",
      "execution_count": 35,
      "metadata": {
        "colab": {
          "base_uri": "https://localhost:8080/"
        },
        "id": "w9s6h9gCvH64",
        "outputId": "267774e5-3b2e-4127-e64c-cf2bd0474994"
      },
      "outputs": [
        {
          "data": {
            "text/plain": [
              "SAFRA\n",
              "2023-01-01    8233\n",
              "2019-01-01    8320\n",
              "2018-01-01    8342\n",
              "2022-01-01    8514\n",
              "2017-01-01    8658\n",
              "2020-01-01    8923\n",
              "2016-01-01    9085\n",
              "2021-01-01    9343\n",
              "Name: count, dtype: int64"
            ]
          },
          "execution_count": 35,
          "metadata": {},
          "output_type": "execute_result"
        }
      ],
      "source": [
        "## SAFRA\n",
        "# [qtde]\n",
        "# Ano da safra / nr de colheitas registradas\n",
        "\n",
        "df['SAFRA'].value_counts(ascending=True)"
      ]
    },
    {
      "cell_type": "code",
      "execution_count": 36,
      "metadata": {
        "colab": {
          "base_uri": "https://localhost:8080/"
        },
        "id": "ElLvGmzHvH65",
        "outputId": "ed673c71-48bb-4832-ee5e-4bffcc3315e3"
      },
      "outputs": [
        {
          "data": {
            "text/plain": [
              "SAFRA\n",
              "2023-01-01    0.118600\n",
              "2019-01-01    0.119854\n",
              "2018-01-01    0.120171\n",
              "2022-01-01    0.122648\n",
              "2017-01-01    0.124723\n",
              "2020-01-01    0.128540\n",
              "2016-01-01    0.130874\n",
              "2021-01-01    0.134590\n",
              "Name: proportion, dtype: float64"
            ]
          },
          "execution_count": 36,
          "metadata": {},
          "output_type": "execute_result"
        }
      ],
      "source": [
        "## SAFRA\n",
        "# Ano da safra / nr de colheitas registradas\n",
        "\n",
        "df['SAFRA'].value_counts(normalize=True, ascending=True)"
      ]
    },
    {
      "cell_type": "code",
      "execution_count": 37,
      "metadata": {
        "id": "2lIdVHZvvH66"
      },
      "outputs": [],
      "source": [
        "## SAFRA\n",
        "# A produção se manteve relativamente estável ao longo dos anos."
      ]
    },
    {
      "cell_type": "markdown",
      "metadata": {
        "id": "g5itjCU3vH67"
      },
      "source": [
        "###### 2. ÁREA"
      ]
    },
    {
      "cell_type": "code",
      "execution_count": 38,
      "metadata": {
        "id": "BKBX4AUtvH67"
      },
      "outputs": [],
      "source": [
        "## ÁREA\n",
        "# [ha]\n",
        "# Tamanho da área plantada (ha)"
      ]
    },
    {
      "cell_type": "code",
      "execution_count": 39,
      "metadata": {
        "colab": {
          "base_uri": "https://localhost:8080/"
        },
        "id": "ZnVuDY7HvH68",
        "outputId": "8f865de9-f0e1-4da2-b0f0-2289e846ada9"
      },
      "outputs": [
        {
          "data": {
            "text/plain": [
              "count    69418.000000\n",
              "mean        11.577644\n",
              "std          7.357393\n",
              "min          0.010000\n",
              "25%          6.090000\n",
              "50%         10.325000\n",
              "75%         15.660000\n",
              "max        298.690000\n",
              "Name: ÁREA, dtype: float64"
            ]
          },
          "execution_count": 39,
          "metadata": {},
          "output_type": "execute_result"
        }
      ],
      "source": [
        "df['ÁREA'].describe()"
      ]
    },
    {
      "cell_type": "code",
      "execution_count": 40,
      "metadata": {
        "colab": {
          "base_uri": "https://localhost:8080/"
        },
        "id": "doPp3PjTvH69",
        "outputId": "5d7df4aa-cb63-4964-d51a-0f8b108e9005"
      },
      "outputs": [
        {
          "data": {
            "text/plain": [
              "0    10.0\n",
              "Name: ÁREA, dtype: float64"
            ]
          },
          "execution_count": 40,
          "metadata": {},
          "output_type": "execute_result"
        }
      ],
      "source": [
        "df['ÁREA'].mode()"
      ]
    },
    {
      "cell_type": "code",
      "execution_count": 41,
      "metadata": {
        "colab": {
          "base_uri": "https://localhost:8080/",
          "height": 467
        },
        "id": "rUxp52oZvH6-",
        "outputId": "8fa951df-e453-4b2e-8ce8-115d33a23e27"
      },
      "outputs": [
        {
          "name": "stderr",
          "output_type": "stream",
          "text": [
            "c:\\Users\\ferna\\anaconda3\\Lib\\site-packages\\seaborn\\_oldcore.py:1119: FutureWarning: use_inf_as_na option is deprecated and will be removed in a future version. Convert inf values to NaN before operating instead.\n",
            "  with pd.option_context('mode.use_inf_as_na', True):\n"
          ]
        },
        {
          "data": {
            "text/plain": [
              "<Axes: xlabel='ÁREA', ylabel='Count'>"
            ]
          },
          "execution_count": 41,
          "metadata": {},
          "output_type": "execute_result"
        },
        {
          "data": {
            "image/png": "[encoded data removed]",
            "text/plain": [
              "<Figure size 640x480 with 1 Axes>"
            ]
          },
          "metadata": {},
          "output_type": "display_data"
        }
      ],
      "source": [
        "sns.histplot(df['ÁREA'], bins=50, kde=True)"
      ]
    },
    {
      "cell_type": "code",
      "execution_count": 42,
      "metadata": {
        "colab": {
          "base_uri": "https://localhost:8080/",
          "height": 429
        },
        "id": "-fBKABq4vH6_",
        "outputId": "b757ec94-9e7b-42a3-cacd-a9ddd391e949"
      },
      "outputs": [
        {
          "data": {
            "text/plain": [
              "<Axes: >"
            ]
          },
          "execution_count": 42,
          "metadata": {},
          "output_type": "execute_result"
        },
        {
          "data": {
            "image/png": "[encoded data removed]",
            "text/plain": [
              "<Figure size 640x480 with 1 Axes>"
            ]
          },
          "metadata": {},
          "output_type": "display_data"
        }
      ],
      "source": [
        "sns.boxplot(df['ÁREA'])"
      ]
    },
    {
      "cell_type": "code",
      "execution_count": 43,
      "metadata": {
        "colab": {
          "base_uri": "https://localhost:8080/"
        },
        "id": "8midSfn6vH6_",
        "outputId": "7d3562dc-8999-4406-c234-b17d389a7643"
      },
      "outputs": [
        {
          "data": {
            "text/plain": [
              "SAFRA\n",
              "2016-01-01    10.070674\n",
              "2017-01-01    10.347468\n",
              "2018-01-01    10.890388\n",
              "2019-01-01    11.515847\n",
              "2020-01-01    11.826935\n",
              "2021-01-01    12.469047\n",
              "2022-01-01    12.783824\n",
              "2023-01-01    12.763931\n",
              "Name: ÁREA, dtype: float64"
            ]
          },
          "execution_count": 43,
          "metadata": {},
          "output_type": "execute_result"
        }
      ],
      "source": [
        "# Média colhida por safra e ÁREA\n",
        "df.groupby('SAFRA')['ÁREA'].mean()"
      ]
    },
    {
      "cell_type": "code",
      "execution_count": 44,
      "metadata": {
        "colab": {
          "base_uri": "https://localhost:8080/"
        },
        "id": "nDQ6500svH7A",
        "outputId": "4f3e6777-b2e4-4a31-cb08-75de4a815849"
      },
      "outputs": [
        {
          "data": {
            "text/plain": [
              "SAFRA\n",
              "2016-01-01     91492.07\n",
              "2017-01-01     89588.38\n",
              "2018-01-01     90847.62\n",
              "2019-01-01     95811.85\n",
              "2020-01-01    105531.74\n",
              "2021-01-01    116498.31\n",
              "2022-01-01    108841.48\n",
              "2023-01-01    105085.44\n",
              "Name: ÁREA, dtype: float64"
            ]
          },
          "execution_count": 44,
          "metadata": {},
          "output_type": "execute_result"
        }
      ],
      "source": [
        "# Total colhida por safra\n",
        "df.groupby('SAFRA')['ÁREA'].sum()"
      ]
    },
    {
      "cell_type": "code",
      "execution_count": 45,
      "metadata": {
        "id": "4oR0quIrvH7B"
      },
      "outputs": [],
      "source": [
        "# Os parceiros possuem áreas relativamente pequenas (10-11 ha), com alguns outliers."
      ]
    },
    {
      "cell_type": "markdown",
      "metadata": {
        "id": "Y4Q_UjfwvH7C"
      },
      "source": [
        "###### 3. PRODUÇÃO REAL"
      ]
    },
    {
      "cell_type": "code",
      "execution_count": 46,
      "metadata": {
        "id": "dv3NxOMwvH7C"
      },
      "outputs": [],
      "source": [
        "## PRODUÇÃO REAL\n",
        "# [kg]\n",
        "# total colheita (kg) por parceiro"
      ]
    },
    {
      "cell_type": "code",
      "execution_count": 47,
      "metadata": {
        "colab": {
          "base_uri": "https://localhost:8080/"
        },
        "id": "G8aijKAkvH7D",
        "outputId": "e0737038-0701-478e-b459-0b1887a9ce43"
      },
      "outputs": [
        {
          "data": {
            "text/plain": [
              "count    69418.000000\n",
              "mean       900.874245\n",
              "std        702.466171\n",
              "min          0.607000\n",
              "25%        405.322750\n",
              "50%        728.930500\n",
              "75%       1197.630750\n",
              "max       8947.830000\n",
              "Name: PRODUÇÃO REAL, dtype: float64"
            ]
          },
          "execution_count": 47,
          "metadata": {},
          "output_type": "execute_result"
        }
      ],
      "source": [
        "df['PRODUÇÃO REAL'].describe()"
      ]
    },
    {
      "cell_type": "code",
      "execution_count": 48,
      "metadata": {
        "colab": {
          "base_uri": "https://localhost:8080/"
        },
        "id": "lsm6CMXZvH7E",
        "outputId": "e0687fc6-6653-47f0-aa49-51b3182dd6fd"
      },
      "outputs": [
        {
          "data": {
            "text/plain": [
              "0    210.755\n",
              "Name: PRODUÇÃO REAL, dtype: float64"
            ]
          },
          "execution_count": 48,
          "metadata": {},
          "output_type": "execute_result"
        }
      ],
      "source": [
        "df['PRODUÇÃO REAL'].mode()"
      ]
    },
    {
      "cell_type": "code",
      "execution_count": 49,
      "metadata": {
        "colab": {
          "base_uri": "https://localhost:8080/",
          "height": 469
        },
        "id": "t2Fctg4MvH7F",
        "outputId": "f4f4c3d1-f931-40fe-961a-b44f648984e4"
      },
      "outputs": [
        {
          "name": "stderr",
          "output_type": "stream",
          "text": [
            "c:\\Users\\ferna\\anaconda3\\Lib\\site-packages\\seaborn\\_oldcore.py:1119: FutureWarning: use_inf_as_na option is deprecated and will be removed in a future version. Convert inf values to NaN before operating instead.\n",
            "  with pd.option_context('mode.use_inf_as_na', True):\n"
          ]
        },
        {
          "data": {
            "text/plain": [
              "<Axes: xlabel='PRODUÇÃO REAL', ylabel='Count'>"
            ]
          },
          "execution_count": 49,
          "metadata": {},
          "output_type": "execute_result"
        },
        {
          "data": {
            "image/png": "[encoded data removed]",
            "text/plain": [
              "<Figure size 640x480 with 1 Axes>"
            ]
          },
          "metadata": {},
          "output_type": "display_data"
        }
      ],
      "source": [
        "sns.histplot(df['PRODUÇÃO REAL'], bins=50, kde=True)"
      ]
    },
    {
      "cell_type": "code",
      "execution_count": 50,
      "metadata": {
        "colab": {
          "base_uri": "https://localhost:8080/",
          "height": 429
        },
        "id": "xZHXfPESvH7F",
        "outputId": "7b0612d5-b6bb-432b-d32e-7be115f7d5c8"
      },
      "outputs": [
        {
          "data": {
            "text/plain": [
              "<Axes: >"
            ]
          },
          "execution_count": 50,
          "metadata": {},
          "output_type": "execute_result"
        },
        {
          "data": {
            "image/png": "[encoded data removed]",
            "text/plain": [
              "<Figure size 640x480 with 1 Axes>"
            ]
          },
          "metadata": {},
          "output_type": "display_data"
        }
      ],
      "source": [
        "sns.boxplot(df['PRODUÇÃO REAL'])"
      ]
    },
    {
      "cell_type": "code",
      "execution_count": 51,
      "metadata": {
        "colab": {
          "base_uri": "https://localhost:8080/"
        },
        "id": "mEwebULrvH7G",
        "outputId": "ce9e6a76-708a-487a-aa8b-3eaadc051be3"
      },
      "outputs": [
        {
          "data": {
            "text/plain": [
              "SAFRA\n",
              "2016-01-01     837.999742\n",
              "2017-01-01     778.562685\n",
              "2018-01-01     809.884338\n",
              "2019-01-01     927.931528\n",
              "2020-01-01     961.744543\n",
              "2021-01-01     835.098882\n",
              "2022-01-01     868.521843\n",
              "2023-01-01    1205.860457\n",
              "Name: PRODUÇÃO REAL, dtype: float64"
            ]
          },
          "execution_count": 51,
          "metadata": {},
          "output_type": "execute_result"
        }
      ],
      "source": [
        "# Produção média por safra\n",
        "df.groupby('SAFRA')['PRODUÇÃO REAL'].mean()"
      ]
    },
    {
      "cell_type": "code",
      "execution_count": 52,
      "metadata": {
        "colab": {
          "base_uri": "https://localhost:8080/"
        },
        "id": "sbzYdUnKvH7H",
        "outputId": "3bb8aad8-7f63-495f-df87-3140de804a35"
      },
      "outputs": [
        {
          "data": {
            "text/plain": [
              "TIPO\n",
              "ARRENDAMENTO    552.820769\n",
              "PARCERIA        900.939438\n",
              "Name: PRODUÇÃO REAL, dtype: float64"
            ]
          },
          "execution_count": 52,
          "metadata": {},
          "output_type": "execute_result"
        }
      ],
      "source": [
        "# Média de produção por tipo de parceria\n",
        "df.groupby('TIPO')['PRODUÇÃO REAL'].mean()"
      ]
    },
    {
      "cell_type": "code",
      "execution_count": 53,
      "metadata": {
        "colab": {
          "base_uri": "https://localhost:8080/"
        },
        "id": "EMK538FMvH7I",
        "outputId": "d5681a2c-c75e-408e-a016-0a05a62c1fda"
      },
      "outputs": [
        {
          "data": {
            "text/plain": [
              "TIPO\n",
              "ARRENDAMENTO         7,187\n",
              "PARCERIA        62,529,702\n",
              "Name: PRODUÇÃO REAL, dtype: object"
            ]
          },
          "execution_count": 53,
          "metadata": {},
          "output_type": "execute_result"
        }
      ],
      "source": [
        "# Soma de produção (kg) por tipo de parceria\n",
        "df.groupby('TIPO')['PRODUÇÃO REAL'].sum().apply(lambda x: f'{x:,.0f}')"
      ]
    },
    {
      "cell_type": "code",
      "execution_count": 54,
      "metadata": {
        "id": "gXgiPbiXvH7J"
      },
      "outputs": [],
      "source": [
        "# - A produção fica geralmente entre ~700 e 900~ kg, com alguns outliers.\n",
        "# - A produção média por safra se manteve relativamente estável ao longo dos anos,\n",
        "# exceto por 2023, que teve aumento de ~39% em relação a 2022.\n",
        "# - Praticamente toda a produção é feita por parceria (99,99%).\n"
      ]
    },
    {
      "cell_type": "markdown",
      "metadata": {
        "id": "1omJiITtvH7J"
      },
      "source": [
        "###### 4. TCH REAL"
      ]
    },
    {
      "cell_type": "code",
      "execution_count": 55,
      "metadata": {
        "id": "qubPd4YkvH7K"
      },
      "outputs": [],
      "source": [
        "# TCH REAL\n",
        "# [ton/ha]\n",
        "# Tonelada de cana por hectare (ton/ha)"
      ]
    },
    {
      "cell_type": "code",
      "execution_count": 56,
      "metadata": {
        "colab": {
          "base_uri": "https://localhost:8080/"
        },
        "id": "y8rQNuLEvH7K",
        "outputId": "6db60a65-fc10-41d8-afee-12cdfa2dc7a2"
      },
      "outputs": [
        {
          "data": {
            "text/plain": [
              "count    69418.000000\n",
              "mean        78.813921\n",
              "std         82.781249\n",
              "min          0.150000\n",
              "25%         56.430000\n",
              "50%         73.780000\n",
              "75%         94.970000\n",
              "max      10459.100000\n",
              "Name: TCH REAL, dtype: float64"
            ]
          },
          "execution_count": 56,
          "metadata": {},
          "output_type": "execute_result"
        }
      ],
      "source": [
        "df['TCH REAL'].describe()"
      ]
    },
    {
      "cell_type": "code",
      "execution_count": 57,
      "metadata": {
        "colab": {
          "base_uri": "https://localhost:8080/"
        },
        "id": "8MiMW3YZvH7L",
        "outputId": "e922e624-7a93-42cd-f1d5-6bce90483f82"
      },
      "outputs": [
        {
          "data": {
            "text/plain": [
              "0    75.08\n",
              "Name: TCH REAL, dtype: float64"
            ]
          },
          "execution_count": 57,
          "metadata": {},
          "output_type": "execute_result"
        }
      ],
      "source": [
        "df['TCH REAL'].mode()"
      ]
    },
    {
      "cell_type": "code",
      "execution_count": 58,
      "metadata": {
        "colab": {
          "base_uri": "https://localhost:8080/",
          "height": 467
        },
        "id": "VbNIUdENvH7M",
        "outputId": "fa52ea4a-c492-40e0-91ab-092a3b924f2f"
      },
      "outputs": [
        {
          "name": "stderr",
          "output_type": "stream",
          "text": [
            "c:\\Users\\ferna\\anaconda3\\Lib\\site-packages\\seaborn\\_oldcore.py:1119: FutureWarning: use_inf_as_na option is deprecated and will be removed in a future version. Convert inf values to NaN before operating instead.\n",
            "  with pd.option_context('mode.use_inf_as_na', True):\n"
          ]
        },
        {
          "data": {
            "text/plain": [
              "<Axes: xlabel='TCH REAL', ylabel='Count'>"
            ]
          },
          "execution_count": 58,
          "metadata": {},
          "output_type": "execute_result"
        },
        {
          "data": {
            "image/png": "[encoded data removed]",
            "text/plain": [
              "<Figure size 640x480 with 1 Axes>"
            ]
          },
          "metadata": {},
          "output_type": "display_data"
        }
      ],
      "source": [
        "sns.histplot(df['TCH REAL'], bins=50, kde=True)"
      ]
    },
    {
      "cell_type": "code",
      "execution_count": 59,
      "metadata": {
        "colab": {
          "base_uri": "https://localhost:8080/",
          "height": 429
        },
        "id": "6a8IdnF0vH7N",
        "outputId": "f601ff10-c6dd-4a4d-aaa4-d21ba543bbbc"
      },
      "outputs": [
        {
          "data": {
            "text/plain": [
              "<Axes: >"
            ]
          },
          "execution_count": 59,
          "metadata": {},
          "output_type": "execute_result"
        },
        {
          "data": {
            "image/png": "[encoded data removed]",
            "text/plain": [
              "<Figure size 640x480 with 1 Axes>"
            ]
          },
          "metadata": {},
          "output_type": "display_data"
        }
      ],
      "source": [
        "sns.boxplot(df['TCH REAL'])"
      ]
    },
    {
      "cell_type": "code",
      "execution_count": 60,
      "metadata": {
        "colab": {
          "base_uri": "https://localhost:8080/",
          "height": 631
        },
        "id": "-89-LbeQvH7O",
        "outputId": "75a3f6b0-cedc-4e7a-ce7d-5c111408fe74"
      },
      "outputs": [
        {
          "data": {
            "text/plain": [
              "SAFRA\n",
              "2016-01-01    84.010226\n",
              "2017-01-01    76.723097\n",
              "2018-01-01    74.452475\n",
              "2019-01-01    84.643653\n",
              "2020-01-01    82.300185\n",
              "2021-01-01    67.524584\n",
              "2022-01-01    69.255977\n",
              "2023-01-01    92.723606\n",
              "Name: TCH REAL, dtype: float64"
            ]
          },
          "execution_count": 60,
          "metadata": {},
          "output_type": "execute_result"
        },
        {
          "data": {
            "image/png": "[encoded data removed]",
            "text/plain": [
              "<Figure size 640x480 with 1 Axes>"
            ]
          },
          "metadata": {},
          "output_type": "display_data"
        }
      ],
      "source": [
        "df.groupby('SAFRA')['TCH REAL'].mean().plot()\n",
        "df.groupby('SAFRA')['TCH REAL'].mean()"
      ]
    },
    {
      "cell_type": "code",
      "execution_count": 61,
      "metadata": {
        "colab": {
          "base_uri": "https://localhost:8080/",
          "height": 444
        },
        "id": "ekKssPFrvH7P",
        "outputId": "28ac4997-ee74-466e-ea6d-bd9d151e3d0d"
      },
      "outputs": [
        {
          "data": {
            "text/plain": [
              "<Axes: xlabel='PARCEIRO'>"
            ]
          },
          "execution_count": 61,
          "metadata": {},
          "output_type": "execute_result"
        },
        {
          "data": {
            "image/png": "[encoded data removed]",
            "text/plain": [
              "<Figure size 640x480 with 1 Axes>"
            ]
          },
          "metadata": {},
          "output_type": "display_data"
        }
      ],
      "source": [
        "df.groupby('PARCEIRO')['TCH REAL'].mean().plot(xticks=[])"
      ]
    },
    {
      "cell_type": "code",
      "execution_count": 62,
      "metadata": {
        "id": "azOrbEhzvH7P"
      },
      "outputs": [],
      "source": [
        "# - A produtividade por ha é relativamente estável ao longo dos anos, com média de ~78 ton/ha,\n",
        "# variando de ~70 a ~85 ton/ha.\n",
        "# - A produtividade não varia muito entre parceiros."
      ]
    },
    {
      "cell_type": "markdown",
      "metadata": {
        "id": "R4RDwag9vH7Q"
      },
      "source": [
        "###### 5. ATR"
      ]
    },
    {
      "cell_type": "code",
      "execution_count": 63,
      "metadata": {
        "id": "XAGc_MZKvH7Q"
      },
      "outputs": [],
      "source": [
        "## ATR\n",
        "# [kg]\n",
        "# Açúcar Total Recuperável (kg)"
      ]
    },
    {
      "cell_type": "code",
      "execution_count": 64,
      "metadata": {
        "colab": {
          "base_uri": "https://localhost:8080/"
        },
        "id": "dIfakCY1vH7R",
        "outputId": "4513ef3b-9212-4d27-e086-4f8beaa42f73"
      },
      "outputs": [
        {
          "data": {
            "text/plain": [
              "count    69418.000000\n",
              "mean       131.551430\n",
              "std         28.387423\n",
              "min          0.000000\n",
              "25%        121.620000\n",
              "50%        135.850000\n",
              "75%        147.890000\n",
              "max        195.250000\n",
              "Name: ATR, dtype: float64"
            ]
          },
          "execution_count": 64,
          "metadata": {},
          "output_type": "execute_result"
        }
      ],
      "source": [
        "df['ATR'].describe()"
      ]
    },
    {
      "cell_type": "code",
      "execution_count": 65,
      "metadata": {
        "colab": {
          "base_uri": "https://localhost:8080/"
        },
        "id": "PTunCz5lvH7S",
        "outputId": "3e48e05c-9ece-4e72-aa46-5ddaf8ec89f4"
      },
      "outputs": [
        {
          "data": {
            "text/plain": [
              "0    0.0\n",
              "Name: ATR, dtype: float64"
            ]
          },
          "execution_count": 65,
          "metadata": {},
          "output_type": "execute_result"
        }
      ],
      "source": [
        "df['ATR'].mode()"
      ]
    },
    {
      "cell_type": "code",
      "execution_count": 66,
      "metadata": {
        "colab": {
          "base_uri": "https://localhost:8080/"
        },
        "id": "8au78qxqwk06",
        "outputId": "ec803da9-69fc-4e70-98f6-3af127657e82"
      },
      "outputs": [
        {
          "data": {
            "text/plain": [
              "2053"
            ]
          },
          "execution_count": 66,
          "metadata": {},
          "output_type": "execute_result"
        }
      ],
      "source": [
        "# linhas possuem valor 0 em df['ATR']\n",
        "(df['ATR'] == 0).sum()\n",
        "\n",
        "# Muita informação faltando nessa coluna?"
      ]
    },
    {
      "cell_type": "code",
      "execution_count": 67,
      "metadata": {
        "colab": {
          "base_uri": "https://localhost:8080/"
        },
        "id": "ewJwODssydQp",
        "outputId": "287303d0-675d-4085-a470-29449685e989"
      },
      "outputs": [
        {
          "ename": "IndentationError",
          "evalue": "unexpected indent (2920337628.py, line 2)",
          "output_type": "error",
          "traceback": [
            "\u001b[1;36m  Cell \u001b[1;32mIn[67], line 2\u001b[1;36m\u001b[0m\n\u001b[1;33m    (df['ATR'] == 0).sum()/len(df)\u001b[0m\n\u001b[1;37m    ^\u001b[0m\n\u001b[1;31mIndentationError\u001b[0m\u001b[1;31m:\u001b[0m unexpected indent\n"
          ]
        }
      ],
      "source": [
        "# linhas possuem valor 0 em df['ATR']\n",
        " (df['ATR'] == 0).sum()/len(df)"
      ]
    },
    {
      "cell_type": "code",
      "execution_count": null,
      "metadata": {
        "colab": {
          "base_uri": "https://localhost:8080/",
          "height": 471
        },
        "id": "DTRceAXUxB5L",
        "outputId": "9df78cb4-b3ab-4322-a696-1435df36e3e9"
      },
      "outputs": [
        {
          "data": {
            "text/plain": [
              "<Axes: xlabel='ATR', ylabel='Count'>"
            ]
          },
          "execution_count": 72,
          "metadata": {},
          "output_type": "execute_result"
        },
        {
          "data": {
            "image/png": "[encoded data removed]",
            "text/plain": [
              "<Figure size 640x480 with 1 Axes>"
            ]
          },
          "metadata": {},
          "output_type": "display_data"
        }
      ],
      "source": [
        "sns.histplot(df['ATR'], bins=50, kde=True)"
      ]
    },
    {
      "cell_type": "code",
      "execution_count": null,
      "metadata": {
        "colab": {
          "base_uri": "https://localhost:8080/",
          "height": 429
        },
        "id": "bBp-6x9NxB0z",
        "outputId": "79f3f975-012f-4bf1-b9f4-ff43e5090789"
      },
      "outputs": [
        {
          "data": {
            "text/plain": [
              "<Axes: ylabel='TCH REAL'>"
            ]
          },
          "execution_count": 73,
          "metadata": {},
          "output_type": "execute_result"
        },
        {
          "data": {
            "image/png": "[encoded data removed]",
            "text/plain": [
              "<Figure size 640x480 with 1 Axes>"
            ]
          },
          "metadata": {},
          "output_type": "display_data"
        }
      ],
      "source": [
        "sns.boxplot(df['TCH REAL'])"
      ]
    },
    {
      "cell_type": "code",
      "execution_count": null,
      "metadata": {
        "colab": {
          "base_uri": "https://localhost:8080/",
          "height": 631
        },
        "id": "HJqHQY5NxxEn",
        "outputId": "2fd7debd-2a29-465f-b5b8-6f81de9f0d0f"
      },
      "outputs": [
        {
          "data": {
            "text/plain": [
              "SAFRA\n",
              "2016-01-01    123.646754\n",
              "2017-01-01    125.464573\n",
              "2018-01-01    130.540939\n",
              "2019-01-01    133.955725\n",
              "2020-01-01    141.180809\n",
              "2021-01-01    134.904292\n",
              "2022-01-01    133.831388\n",
              "2023-01-01    128.670279\n",
              "Name: ATR, dtype: float64"
            ]
          },
          "execution_count": 74,
          "metadata": {},
          "output_type": "execute_result"
        },
        {
          "data": {
            "image/png": "[encoded data removed]",
            "text/plain": [
              "<Figure size 640x480 with 1 Axes>"
            ]
          },
          "metadata": {},
          "output_type": "display_data"
        }
      ],
      "source": [
        "df.groupby('SAFRA')['ATR'].mean().plot()\n",
        "df.groupby('SAFRA')['ATR'].mean()"
      ]
    },
    {
      "cell_type": "code",
      "execution_count": null,
      "metadata": {
        "colab": {
          "base_uri": "https://localhost:8080/",
          "height": 444
        },
        "id": "zSCV8fWFxxA_",
        "outputId": "17c5f8a9-5980-49fe-f81f-f75d9ed04ced"
      },
      "outputs": [
        {
          "data": {
            "text/plain": [
              "<Axes: xlabel='PARCEIRO'>"
            ]
          },
          "execution_count": 75,
          "metadata": {},
          "output_type": "execute_result"
        },
        {
          "data": {
            "image/png": "[encoded data removed]",
            "text/plain": [
              "<Figure size 640x480 with 1 Axes>"
            ]
          },
          "metadata": {},
          "output_type": "display_data"
        }
      ],
      "source": [
        "df.groupby('PARCEIRO')['ATR'].mean().plot(xticks=[])"
      ]
    },
    {
      "cell_type": "code",
      "execution_count": null,
      "metadata": {
        "id": "G8IwxidtxgsS"
      },
      "outputs": [],
      "source": [
        "# - ATR (em kg) com baixa variabilidade, na faixa e ~120 a ~150.\n",
        "# - Muitos valores em branco (~3% do total). Investigar se é normal.\n",
        "# - Valores relativamente estáveis por safra.\n",
        "# - A produtividade não varia muito entre parceiros (mas há exceções)."
      ]
    },
    {
      "cell_type": "markdown",
      "metadata": {
        "id": "cj8crz7XvH7T"
      },
      "source": [
        "###### 6. ATR*PRODUÇÃO"
      ]
    },
    {
      "cell_type": "code",
      "execution_count": 74,
      "metadata": {
        "id": "UwT6UCg2vH7T"
      },
      "outputs": [
        {
          "data": {
            "text/plain": [
              "count    6.941800e+04\n",
              "mean     1.184306e+05\n",
              "std      9.484242e+04\n",
              "min      0.000000e+00\n",
              "25%      5.140085e+04\n",
              "50%      9.637571e+04\n",
              "75%      1.606269e+05\n",
              "max      1.138074e+06\n",
              "Name: ATR * PRODUÇÃO, dtype: float64"
            ]
          },
          "execution_count": 74,
          "metadata": {},
          "output_type": "execute_result"
        }
      ],
      "source": [
        "# ATR*PRODUÇÃO \n",
        "# [kg]\n",
        "# (PRODUÇÃO REAL*ATR) (kg)\n",
        "# ATR não deveria ser uma fração da produção em vez do produto?\n",
        "df['ATR * PRODUÇÃO'].describe()\n"
      ]
    },
    {
      "cell_type": "code",
      "execution_count": 75,
      "metadata": {
        "id": "aL_yTE0MvH7U"
      },
      "outputs": [
        {
          "data": {
            "text/plain": [
              "0    0.0\n",
              "Name: ATR * PRODUÇÃO, dtype: float64"
            ]
          },
          "execution_count": 75,
          "metadata": {},
          "output_type": "execute_result"
        }
      ],
      "source": [
        "df['ATR * PRODUÇÃO'].mode()"
      ]
    },
    {
      "cell_type": "code",
      "execution_count": 71,
      "metadata": {
        "id": "JKJEW9otvH7U"
      },
      "outputs": [
        {
          "name": "stderr",
          "output_type": "stream",
          "text": [
            "c:\\Users\\ferna\\anaconda3\\Lib\\site-packages\\seaborn\\_oldcore.py:1119: FutureWarning: use_inf_as_na option is deprecated and will be removed in a future version. Convert inf values to NaN before operating instead.\n",
            "  with pd.option_context('mode.use_inf_as_na', True):\n"
          ]
        },
        {
          "data": {
            "text/plain": [
              "<Axes: xlabel='ATR * PRODUÇÃO', ylabel='Count'>"
            ]
          },
          "execution_count": 71,
          "metadata": {},
          "output_type": "execute_result"
        },
        {
          "data": {
            "image/png": "[encoded data removed]",
            "text/plain": [
              "<Figure size 640x480 with 1 Axes>"
            ]
          },
          "metadata": {},
          "output_type": "display_data"
        }
      ],
      "source": [
        "sns.histplot(df['ATR * PRODUÇÃO'], bins=50, kde=True)"
      ]
    },
    {
      "cell_type": "code",
      "execution_count": 76,
      "metadata": {},
      "outputs": [
        {
          "data": {
            "text/plain": [
              "<Axes: >"
            ]
          },
          "execution_count": 76,
          "metadata": {},
          "output_type": "execute_result"
        },
        {
          "data": {
            "image/png": "[encoded data removed]",
            "text/plain": [
              "<Figure size 640x480 with 1 Axes>"
            ]
          },
          "metadata": {},
          "output_type": "display_data"
        }
      ],
      "source": [
        "sns.boxplot(df['ATR * PRODUÇÃO'])"
      ]
    },
    {
      "cell_type": "code",
      "execution_count": null,
      "metadata": {},
      "outputs": [],
      "source": [
        "# Não entendi completamente este dado (???)."
      ]
    },
    {
      "cell_type": "markdown",
      "metadata": {
        "id": "Sd029pi6vH7U"
      },
      "source": [
        "###### 7. DATA DE COLHEITA"
      ]
    },
    {
      "cell_type": "code",
      "execution_count": null,
      "metadata": {
        "id": "ipYIb8euvH7V"
      },
      "outputs": [],
      "source": [
        "# - Ignorarei esta informação por enquanto, \n",
        "# considerando que fizemos a análise do mês da colheita em coluna especifica."
      ]
    },
    {
      "cell_type": "markdown",
      "metadata": {
        "id": "urWx--vbvH7W"
      },
      "source": [
        "###### 8. TON/HÁ"
      ]
    },
    {
      "cell_type": "code",
      "execution_count": 77,
      "metadata": {},
      "outputs": [
        {
          "data": {
            "text/plain": [
              "count     69418.000\n",
              "unique      150.000\n",
              "top          24.793\n",
              "freq       8329.000\n",
              "Name: TON/HÁ, dtype: float64"
            ]
          },
          "execution_count": 77,
          "metadata": {},
          "output_type": "execute_result"
        }
      ],
      "source": [
        "df['TON/HÁ'].describe()"
      ]
    },
    {
      "cell_type": "code",
      "execution_count": null,
      "metadata": {
        "id": "RWz5nH5BvH7W"
      },
      "outputs": [],
      "source": [
        "# muitos valores repetidos (???)"
      ]
    },
    {
      "cell_type": "markdown",
      "metadata": {
        "id": "ExQPfq99vH7Z"
      },
      "source": [
        "###### 9. KG ATR"
      ]
    },
    {
      "cell_type": "code",
      "execution_count": 78,
      "metadata": {},
      "outputs": [
        {
          "data": {
            "text/plain": [
              "count    69418.000000\n",
              "mean       121.309559\n",
              "std          3.001175\n",
              "min        109.190000\n",
              "25%        121.967600\n",
              "50%        121.967600\n",
              "75%        121.967600\n",
              "max        140.000000\n",
              "Name: KG ATR, dtype: float64"
            ]
          },
          "execution_count": 78,
          "metadata": {},
          "output_type": "execute_result"
        }
      ],
      "source": [
        "df['KG ATR'].describe()"
      ]
    },
    {
      "cell_type": "code",
      "execution_count": 80,
      "metadata": {},
      "outputs": [
        {
          "data": {
            "text/plain": [
              "0    121.9676\n",
              "Name: KG ATR, dtype: float64"
            ]
          },
          "execution_count": 80,
          "metadata": {},
          "output_type": "execute_result"
        }
      ],
      "source": [
        "df['KG ATR'].mode()"
      ]
    },
    {
      "cell_type": "code",
      "execution_count": null,
      "metadata": {
        "id": "rF40I6LavH7Z"
      },
      "outputs": [],
      "source": [
        "# muitos valores repetidos (???)"
      ]
    }
  ],
  "metadata": {
    "colab": {
      "provenance": [],
      "toc_visible": true
    },
    "kernelspec": {
      "display_name": "base",
      "language": "python",
      "name": "python3"
    },
    "language_info": {
      "codemirror_mode": {
        "name": "ipython",
        "version": 3
      },
      "file_extension": ".py",
      "mimetype": "text/x-python",
      "name": "python",
      "nbconvert_exporter": "python",
      "pygments_lexer": "ipython3",
      "version": "3.11.7"
    }
  },
  "nbformat": 4,
  "nbformat_minor": 0
}
