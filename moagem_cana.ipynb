{
 "cells": [
  {
   "cell_type": "markdown",
   "metadata": {},
   "source": [
    "#### 0. Configurar o Ambiente"
   ]
  },
  {
   "cell_type": "code",
   "execution_count": null,
   "metadata": {},
   "outputs": [],
   "source": [
    "import os\n",
    "\n",
    "## Google Colab\n",
    "if 'google.colab' in str(get_ipython()):\n",
    "  from google.colab import drive\n",
    "  drive.mount('/content/drive', force_remount=True)\n",
    "  # Setar o diretório de trabalho\n",
    "  d_geral = R'/content/drive/MyDrive/Usina Pedra/Docs Nicolella/4-Dados e documentos/Dados'\n",
    "  d_usina = R'/content/drive/MyDrive/Usina Pedra/Docs Nicolella/4-Dados e documentos/Dados/Usina da Pedra'\n",
    "  d_sp = R'/content/drive/MyDrive/Usina Pedra/Docs Nicolella/4-Dados e documentos/Dados/Geral do Estado de Sao Paulo'\n",
    "## Windows\n",
    "else:\n",
    "  # Setar o diretório de trabalho\n",
    "  d_geral = R'C:\\Users\\ferna\\OneDrive\\5. Trabalho\\Expediente\\Ativos\\Consultoria\\Usina Pedra\\Docs Nicolella\\4-Dados e documentos\\Dados'\n",
    "  d_usina = R'C:\\Users\\ferna\\OneDrive\\5. Trabalho\\Expediente\\Ativos\\Consultoria\\Usina Pedra\\Docs Nicolella\\4-Dados e documentos\\Dados\\Usina da Pedra'\n",
    "  d_sp = R'C:\\Users\\ferna\\OneDrive\\5. Trabalho\\Expediente\\Ativos\\Consultoria\\Usina Pedra\\Docs Nicolella\\4-Dados e documentos\\Dados\\Geral do Estado de Sao Paulo'"
   ]
  }
 ],
 "metadata": {
  "language_info": {
   "name": "python"
  }
 },
 "nbformat": 4,
 "nbformat_minor": 2
}
